{
 "cells": [
  {
   "cell_type": "markdown",
   "metadata": {},
   "source": [
    "## Basic Collections\n"
   ]
  },
  {
   "cell_type": "markdown",
   "metadata": {},
   "source": [
    "### Sequences => (Lists, Arrays)\n"
   ]
  },
  {
   "cell_type": "code",
   "execution_count": 14,
   "metadata": {},
   "outputs": [
    {
     "name": "stderr",
     "output_type": "stream",
     "text": [
      "cmd14.sc:209: fruits is already defined as value fruits\n",
      "val fruits = \"Orange\" :: fruits\n",
      "    ^\n",
      "Compilation Failed"
     ]
    }
   ],
   "source": [
    "// Lists are immutable collections\n",
    "val fruits = List(\"Apple\", \"Banana\", \"Cherry\")\n",
    "println(fruits)  // Apple, Banana, Cherry\n",
    "println(fruits(0))  // Apple\n",
    "\n",
    "// Add a new element\n",
    "val fruits = \"Orange\" :: fruits\n",
    "println(fruits)  // Orange, Apple, Banana, Cherry\n"
   ]
  },
  {
   "cell_type": "code",
   "execution_count": 12,
   "metadata": {},
   "outputs": [
    {
     "name": "stdout",
     "output_type": "stream",
     "text": [
      "List(Apple, Banana, Cherry)\n",
      "Apple\n",
      "List(Orange, Apple, Banana, Cherry)\n"
     ]
    },
    {
     "data": {
      "text/plain": [
       "\u001b[36mfruits\u001b[39m: \u001b[32mList\u001b[39m[\u001b[32mString\u001b[39m] = \u001b[33mList\u001b[39m(\u001b[32m\"Apple\"\u001b[39m, \u001b[32m\"Banana\"\u001b[39m, \u001b[32m\"Cherry\"\u001b[39m)\n",
       "\u001b[36mfruits2\u001b[39m: \u001b[32mList\u001b[39m[\u001b[32mString\u001b[39m] = \u001b[33mList\u001b[39m(\u001b[32m\"Orange\"\u001b[39m, \u001b[32m\"Apple\"\u001b[39m, \u001b[32m\"Banana\"\u001b[39m, \u001b[32m\"Cherry\"\u001b[39m)"
      ]
     },
     "execution_count": 12,
     "metadata": {},
     "output_type": "execute_result"
    }
   ],
   "source": [
    "val fruits = List(\"Apple\", \"Banana\", \"Cherry\")\n",
    "println(fruits)  // Apple, Banana, Cherry\n",
    "println(fruits(0))  // Apple\n",
    "\n",
    "// Add a new element\n",
    "val fruits2 = \"Orange\" :: fruits\n",
    "println(fruits2)  // Orange, Apple, Banana, Cherry"
   ]
  },
  {
   "cell_type": "code",
   "execution_count": 14,
   "metadata": {},
   "outputs": [
    {
     "name": "stdout",
     "output_type": "stream",
     "text": [
      "3\n",
      "10\n"
     ]
    },
    {
     "data": {
      "text/plain": [
       "\u001b[36mnumbers\u001b[39m: \u001b[32mArray\u001b[39m[\u001b[32mInt\u001b[39m] = \u001b[33mArray\u001b[39m(\u001b[32m1\u001b[39m, \u001b[32m2\u001b[39m, \u001b[32m10\u001b[39m, \u001b[32m4\u001b[39m)"
      ]
     },
     "execution_count": 14,
     "metadata": {},
     "output_type": "execute_result"
    }
   ],
   "source": [
    "// Arrays are mutable collections\n",
    "val numbers = Array(1, 2, 3, 4)\n",
    "println(numbers(2))  // Output: 1, 2, 3, 4\n",
    "\n",
    "// Modify an element\n",
    "numbers(2) = 10\n",
    "println(numbers(2))  // Output: 1, 2, 10, 4\n"
   ]
  },
  {
   "cell_type": "markdown",
   "metadata": {},
   "source": [
    "### Sets"
   ]
  },
  {
   "cell_type": "code",
   "execution_count": 16,
   "metadata": {},
   "outputs": [
    {
     "name": "stdout",
     "output_type": "stream",
     "text": [
      "Set(Red, Green, Blue)\n",
      "Set(Red, Green, Blue, Yellow)\n",
      "Set(Red, Green, Blue)\n"
     ]
    },
    {
     "data": {
      "text/plain": [
       "\u001b[36mcolors\u001b[39m: \u001b[32mSet\u001b[39m[\u001b[32mString\u001b[39m] = \u001b[33mSet\u001b[39m(\u001b[32m\"Red\"\u001b[39m, \u001b[32m\"Green\"\u001b[39m, \u001b[32m\"Blue\"\u001b[39m)\n",
       "\u001b[36mcolors2\u001b[39m: \u001b[32mSet\u001b[39m[\u001b[32mString\u001b[39m] = \u001b[33mSet\u001b[39m(\u001b[32m\"Red\"\u001b[39m, \u001b[32m\"Green\"\u001b[39m, \u001b[32m\"Blue\"\u001b[39m, \u001b[32m\"Yellow\"\u001b[39m)\n",
       "\u001b[36mcolors3\u001b[39m: \u001b[32mSet\u001b[39m[\u001b[32mString\u001b[39m] = \u001b[33mSet\u001b[39m(\u001b[32m\"Red\"\u001b[39m, \u001b[32m\"Green\"\u001b[39m, \u001b[32m\"Blue\"\u001b[39m, \u001b[32m\"Yellow\"\u001b[39m)"
      ]
     },
     "execution_count": 16,
     "metadata": {},
     "output_type": "execute_result"
    }
   ],
   "source": [
    "// Sets are immutable collections\n",
    "val colors = Set(\"Red\", \"Green\", \"Blue\")\n",
    "println(colors)  // Red, Green, Blue\n",
    "\n",
    "// Adding an element\n",
    "val colors2 = colors + \"Yellow\"\n",
    "println(moreColors)  // Red, Green, Blue, Yellow\n",
    "\n",
    "// Add a duplicate element\n",
    "val colors3 = colors2 + \"Red\"\n",
    "println(sameColors)  // Red, Green, Blue\n"
   ]
  },
  {
   "cell_type": "code",
   "execution_count": 18,
   "metadata": {},
   "outputs": [
    {
     "name": "stdout",
     "output_type": "stream",
     "text": [
      "HashSet(Red, Green)\n",
      "HashSet(Red, Blue, Green)\n",
      "HashSet(Blue, Green)\n"
     ]
    },
    {
     "data": {
      "text/plain": [
       "\u001b[32mimport \u001b[39m\u001b[36mscala.collection.mutable\u001b[39m\n",
       "\u001b[36mcolors\u001b[39m: \u001b[32mmutable\u001b[39m.\u001b[32mSet\u001b[39m[\u001b[32mString\u001b[39m] = \u001b[33mHashSet\u001b[39m(\u001b[32m\"Blue\"\u001b[39m, \u001b[32m\"Green\"\u001b[39m)\n",
       "\u001b[36mres18_3\u001b[39m: \u001b[32mmutable\u001b[39m.\u001b[32mSet\u001b[39m[\u001b[32mString\u001b[39m] = \u001b[33mHashSet\u001b[39m(\u001b[32m\"Blue\"\u001b[39m, \u001b[32m\"Green\"\u001b[39m)\n",
       "\u001b[36mres18_5\u001b[39m: \u001b[32mmutable\u001b[39m.\u001b[32mSet\u001b[39m[\u001b[32mString\u001b[39m] = \u001b[33mHashSet\u001b[39m(\u001b[32m\"Blue\"\u001b[39m, \u001b[32m\"Green\"\u001b[39m)"
      ]
     },
     "execution_count": 18,
     "metadata": {},
     "output_type": "execute_result"
    }
   ],
   "source": [
    "import scala.collection.mutable\n",
    "\n",
    "val colors = mutable.Set(\"Red\", \"Green\")\n",
    "println(colors)  // Red, Green\n",
    "\n",
    "// Add a new element\n",
    "colors += \"Blue\"\n",
    "println(colors)  // Red, Green, Blue\n",
    "\n",
    "// Remove an element\n",
    "colors -= \"Red\"\n",
    "println(colors)  // Green, Blue\n"
   ]
  },
  {
   "cell_type": "markdown",
   "metadata": {},
   "source": [
    "### Maps"
   ]
  },
  {
   "cell_type": "code",
   "execution_count": 22,
   "metadata": {},
   "outputs": [
    {
     "name": "stdout",
     "output_type": "stream",
     "text": [
      "Map(Alice -> 95, Bob -> 85)\n",
      "95\n",
      "Map(Alice -> 95, Bob -> 85, Charlie -> 90)\n"
     ]
    },
    {
     "data": {
      "text/plain": [
       "\u001b[36mscores\u001b[39m: \u001b[32mMap\u001b[39m[\u001b[32mString\u001b[39m, \u001b[32mInt\u001b[39m] = \u001b[33mMap\u001b[39m(\u001b[32m\"Alice\"\u001b[39m -> \u001b[32m95\u001b[39m, \u001b[32m\"Bob\"\u001b[39m -> \u001b[32m85\u001b[39m)\n",
       "\u001b[36mscores2\u001b[39m: \u001b[32mMap\u001b[39m[\u001b[32mString\u001b[39m, \u001b[32mInt\u001b[39m] = \u001b[33mMap\u001b[39m(\u001b[32m\"Alice\"\u001b[39m -> \u001b[32m95\u001b[39m, \u001b[32m\"Bob\"\u001b[39m -> \u001b[32m85\u001b[39m, \u001b[32m\"Charlie\"\u001b[39m -> \u001b[32m90\u001b[39m)"
      ]
     },
     "execution_count": 22,
     "metadata": {},
     "output_type": "execute_result"
    }
   ],
   "source": [
    "// Mpas are immutable collections\n",
    "val scores = Map(\"Alice\" -> 95, \"Bob\" -> 85)\n",
    "println(scores)  // Alice -> 95, Bob -> 85\n",
    "\n",
    "// Accessing value by key\n",
    "println(scores(\"Alice\"))  // 95\n",
    "\n",
    "// Adding a new key-value\n",
    "val scores2 = scores + (\"Charlie\" -> 90)\n",
    "println(scores2)  // Alice -> 95, Bob -> 85, Charlie -> 90\n"
   ]
  },
  {
   "cell_type": "code",
   "execution_count": 21,
   "metadata": {},
   "outputs": [
    {
     "name": "stdout",
     "output_type": "stream",
     "text": [
      "HashMap(Bob -> 85, Alice -> 95)\n",
      "HashMap(Bob -> 85, Alice -> 95, Charlie -> 90)\n",
      "HashMap(Bob -> 85, Alice -> 98, Charlie -> 90)\n"
     ]
    },
    {
     "data": {
      "text/plain": [
       "\u001b[32mimport \u001b[39m\u001b[36mscala.collection.mutable\u001b[39m\n",
       "\u001b[36mscores\u001b[39m: \u001b[32mmutable\u001b[39m.\u001b[32mMap\u001b[39m[\u001b[32mString\u001b[39m, \u001b[32mInt\u001b[39m] = \u001b[33mHashMap\u001b[39m(\n",
       "  \u001b[32m\"Bob\"\u001b[39m -> \u001b[32m85\u001b[39m,\n",
       "  \u001b[32m\"Alice\"\u001b[39m -> \u001b[32m98\u001b[39m,\n",
       "  \u001b[32m\"Charlie\"\u001b[39m -> \u001b[32m90\u001b[39m\n",
       ")\n",
       "\u001b[36mres21_3\u001b[39m: \u001b[32mmutable\u001b[39m.\u001b[32mMap\u001b[39m[\u001b[32mString\u001b[39m, \u001b[32mInt\u001b[39m] = \u001b[33mHashMap\u001b[39m(\n",
       "  \u001b[32m\"Bob\"\u001b[39m -> \u001b[32m85\u001b[39m,\n",
       "  \u001b[32m\"Alice\"\u001b[39m -> \u001b[32m98\u001b[39m,\n",
       "  \u001b[32m\"Charlie\"\u001b[39m -> \u001b[32m90\u001b[39m\n",
       ")"
      ]
     },
     "execution_count": 21,
     "metadata": {},
     "output_type": "execute_result"
    }
   ],
   "source": [
    "import scala.collection.mutable\n",
    "\n",
    "val scores = mutable.Map(\"Alice\" -> 95, \"Bob\" -> 85)\n",
    "println(scores)  // Alice -> 95, Bob -> 85\n",
    "\n",
    "// Add a new key-value\n",
    "scores += (\"Charlie\" -> 90)\n",
    "println(scores)  // Alice -> 95, Bob -> 85, Charlie -> 90\n",
    "\n",
    "// Modify existing value\n",
    "scores(\"Alice\") = 98\n",
    "println(scores)  // Alice -> 98, Bob -> 85, Charlie -> 90\n"
   ]
  },
  {
   "cell_type": "markdown",
   "metadata": {},
   "source": [
    "#### Although the existing \"scores\" map by adding \"Charlie\" -> 90 and updating \"Alice\"'s value. Even though you changed scores, the REPL(READ-EVAL-PRINT LOOP) shows res21_3 because it assigns the result of the last operation to a temporary variable automatically."
   ]
  }
 ],
 "metadata": {
  "kernelspec": {
   "display_name": "Scala",
   "language": "scala",
   "name": "scala"
  },
  "language_info": {
   "codemirror_mode": "text/x-scala",
   "file_extension": ".sc",
   "mimetype": "text/x-scala",
   "name": "scala",
   "nbconvert_exporter": "script",
   "version": "2.13.14"
  }
 },
 "nbformat": 4,
 "nbformat_minor": 2
}

{
 "cells": [
  {
   "cell_type": "markdown",
   "metadata": {},
   "source": [
    "## Multi-Dimensional Arrays"
   ]
  },
  {
   "cell_type": "markdown",
   "metadata": {},
   "source": [
    "### 2D Array"
   ]
  },
  {
   "cell_type": "code",
   "execution_count": 2,
   "metadata": {},
   "outputs": [
    {
     "name": "stdout",
     "output_type": "stream",
     "text": [
      "1 2 3\n",
      "4 5 6\n"
     ]
    },
    {
     "data": {
      "text/plain": [
       "\u001b[36mmatrix\u001b[39m: \u001b[32mArray\u001b[39m[\u001b[32mArray\u001b[39m[\u001b[32mInt\u001b[39m]] = \u001b[33mArray\u001b[39m(\u001b[33mArray\u001b[39m(\u001b[32m1\u001b[39m, \u001b[32m2\u001b[39m, \u001b[32m3\u001b[39m), \u001b[33mArray\u001b[39m(\u001b[32m4\u001b[39m, \u001b[32m5\u001b[39m, \u001b[32m6\u001b[39m))"
      ]
     },
     "execution_count": 2,
     "metadata": {},
     "output_type": "execute_result"
    }
   ],
   "source": [
    "// Create a 2x3 array (2 rows and 3 columns) (Mutable)\n",
    "val matrix = Array.ofDim[Int](2, 3)\n",
    "\n",
    "// Initialize elements\n",
    "matrix(0)(0) = 1\n",
    "matrix(0)(1) = 2\n",
    "matrix(0)(2) = 3\n",
    "matrix(1)(0) = 4\n",
    "matrix(1)(1) = 5\n",
    "matrix(1)(2) = 6\n",
    "\n",
    "// Print the 2D array\n",
    "// The .mkString method in Scala is used to convert collections (like arrays, lists, or sequences) into a single String.\n",
    "for (row <- matrix) {\n",
    "  println(row.mkString(\" \")) // print each row with space seperation.\n",
    "}\n"
   ]
  },
  {
   "cell_type": "markdown",
   "metadata": {},
   "source": [
    "### 3D Array\n"
   ]
  },
  {
   "cell_type": "code",
   "execution_count": 3,
   "metadata": {},
   "outputs": [
    {
     "name": "stdout",
     "output_type": "stream",
     "text": [
      "1 2 3\n",
      "4 5 6\n",
      "-----\n",
      "7 8 9\n",
      "10 11 12\n",
      "-----\n"
     ]
    },
    {
     "data": {
      "text/plain": [
       "\u001b[36mcube\u001b[39m: \u001b[32mArray\u001b[39m[\u001b[32mArray\u001b[39m[\u001b[32mArray\u001b[39m[\u001b[32mInt\u001b[39m]]] = \u001b[33mArray\u001b[39m(\n",
       "  \u001b[33mArray\u001b[39m(\u001b[33mArray\u001b[39m(\u001b[32m1\u001b[39m, \u001b[32m2\u001b[39m, \u001b[32m3\u001b[39m), \u001b[33mArray\u001b[39m(\u001b[32m4\u001b[39m, \u001b[32m5\u001b[39m, \u001b[32m6\u001b[39m)),\n",
       "  \u001b[33mArray\u001b[39m(\u001b[33mArray\u001b[39m(\u001b[32m7\u001b[39m, \u001b[32m8\u001b[39m, \u001b[32m9\u001b[39m), \u001b[33mArray\u001b[39m(\u001b[32m10\u001b[39m, \u001b[32m11\u001b[39m, \u001b[32m12\u001b[39m))\n",
       ")"
      ]
     },
     "execution_count": 3,
     "metadata": {},
     "output_type": "execute_result"
    }
   ],
   "source": [
    "// Create a 2x2x3 array (2 layers, each with 2 rows and 3 columns)\n",
    "val cube = Array.ofDim[Int](2, 2, 3)\n",
    "\n",
    "// Initialize elements\n",
    "cube(0)(0)(0) = 1\n",
    "cube(0)(0)(1) = 2\n",
    "cube(0)(0)(2) = 3\n",
    "cube(0)(1)(0) = 4\n",
    "cube(0)(1)(1) = 5\n",
    "cube(0)(1)(2) = 6\n",
    "cube(1)(0)(0) = 7\n",
    "cube(1)(0)(1) = 8\n",
    "cube(1)(0)(2) = 9\n",
    "cube(1)(1)(0) = 10\n",
    "cube(1)(1)(1) = 11\n",
    "cube(1)(1)(2) = 12\n",
    "\n",
    "// Print the 3D array\n",
    "for (layer <- cube) {\n",
    "  for (row <- layer) {\n",
    "    println(row.mkString(\" \"))\n",
    "  }\n",
    "  println(\"-----\")  // Separate layers\n",
    "}\n"
   ]
  },
  {
   "cell_type": "markdown",
   "metadata": {},
   "source": [
    "### Predefined Values"
   ]
  },
  {
   "cell_type": "code",
   "execution_count": 4,
   "metadata": {},
   "outputs": [
    {
     "name": "stdout",
     "output_type": "stream",
     "text": [
      "1 2 3\n",
      "4 5 6\n",
      "7 8 9\n"
     ]
    },
    {
     "data": {
      "text/plain": [
       "\u001b[36mpredefinedMatrix\u001b[39m: \u001b[32mArray\u001b[39m[\u001b[32mArray\u001b[39m[\u001b[32mInt\u001b[39m]] = \u001b[33mArray\u001b[39m(\n",
       "  \u001b[33mArray\u001b[39m(\u001b[32m1\u001b[39m, \u001b[32m2\u001b[39m, \u001b[32m3\u001b[39m),\n",
       "  \u001b[33mArray\u001b[39m(\u001b[32m4\u001b[39m, \u001b[32m5\u001b[39m, \u001b[32m6\u001b[39m),\n",
       "  \u001b[33mArray\u001b[39m(\u001b[32m7\u001b[39m, \u001b[32m8\u001b[39m, \u001b[32m9\u001b[39m)\n",
       ")"
      ]
     },
     "execution_count": 4,
     "metadata": {},
     "output_type": "execute_result"
    }
   ],
   "source": [
    "val predefinedMatrix = Array(\n",
    "  Array(1, 2, 3),\n",
    "  Array(4, 5, 6),\n",
    "  Array(7, 8, 9)\n",
    ")\n",
    "\n",
    "for (row <- predefinedMatrix) {\n",
    "  println(row.mkString(\" \"))\n",
    "}\n"
   ]
  }
 ],
 "metadata": {
  "kernelspec": {
   "display_name": "Scala",
   "language": "scala",
   "name": "scala"
  },
  "language_info": {
   "codemirror_mode": "text/x-scala",
   "file_extension": ".sc",
   "mimetype": "text/x-scala",
   "name": "scala",
   "nbconvert_exporter": "script",
   "version": "2.13.14"
  }
 },
 "nbformat": 4,
 "nbformat_minor": 2
}

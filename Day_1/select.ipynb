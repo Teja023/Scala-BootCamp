{
 "cells": [
  {
   "cell_type": "markdown",
   "metadata": {},
   "source": [
    "### match "
   ]
  },
  {
   "cell_type": "code",
   "execution_count": 6,
   "metadata": {},
   "outputs": [
    {
     "name": "stdout",
     "output_type": "stream",
     "text": [
      "May\n"
     ]
    },
    {
     "data": {
      "text/plain": [
       "\u001b[36mmonth\u001b[39m: \u001b[32mInt\u001b[39m = \u001b[32m5\u001b[39m\n",
       "\u001b[36mname\u001b[39m: \u001b[32mString\u001b[39m = \u001b[32m\"May\"\u001b[39m"
      ]
     },
     "execution_count": 6,
     "metadata": {},
     "output_type": "execute_result"
    }
   ],
   "source": [
    "val month: Int = 5\n",
    "\n",
    "val name = month match {\n",
    "  case 1 => \"Jan\"\n",
    "  case 2 => \"Feb\"\n",
    "  case 3 => \"March\"\n",
    "  case 4 => \"April\"\n",
    "  case 5 => \"May\"\n",
    "  case 6 => \"June\"\n",
    "  case 7 => \"July\"\n",
    "  case _ => \"not Interested\" // Default case\n",
    "}\n",
    "\n",
    "// here the month val is checked against each case from top and if matches the name val gets assigned\n",
    "\n",
    "println(name) // Prints: Wednesday\n"
   ]
  },
  {
   "cell_type": "code",
   "execution_count": 15,
   "metadata": {},
   "outputs": [
    {
     "name": "stdout",
     "output_type": "stream",
     "text": [
      "It's the number five!\n",
      "It's a string.\n",
      "This is an Array(1)\n",
      "It's a string.\n"
     ]
    },
    {
     "data": {
      "text/plain": [
       "\u001b[36mx\u001b[39m: \u001b[32mInt\u001b[39m = \u001b[32m5\u001b[39m\n",
       "\u001b[36my\u001b[39m: \u001b[32mString\u001b[39m = \u001b[32m\"abc\"\u001b[39m\n",
       "\u001b[36mz\u001b[39m: \u001b[32mArray\u001b[39m[\u001b[32mInt\u001b[39m] = \u001b[33mArray\u001b[39m(\u001b[32m1\u001b[39m, \u001b[32m3\u001b[39m, \u001b[32m5\u001b[39m, \u001b[32m7\u001b[39m)\n",
       "defined \u001b[32mfunction\u001b[39m \u001b[36mselect\u001b[39m"
      ]
     },
     "execution_count": 15,
     "metadata": {},
     "output_type": "execute_result"
    }
   ],
   "source": [
    "// match here can be used to match the data type of val\n",
    "\n",
    "val x:Int = 5\n",
    "val y:String = \"abc\"\n",
    "val z = Array(1, 3, 5, 7)\n",
    "\n",
    "def select(x: Any): String = x match {\n",
    "  case 5 => \"It's the number five!\"\n",
    "  case _: Int => \"It's an integer.\"\n",
    "  case arr: Array[Int] => s\"This is an Array(${arr(0)})\"\n",
    "  case _: String => \"It's a string.\"\n",
    "  case _ => \"Unknown type\"\n",
    "}\n",
    "\n",
    "println(select(x))         // Prints: It's the number five!\n",
    "println(select(y))        // Prints: It's an integer.\n",
    "println(select(z))\n",
    "println(select(\"hello\"))   // Prints: It's a string.\n"
   ]
  }
 ],
 "metadata": {
  "kernelspec": {
   "display_name": "Scala",
   "language": "scala",
   "name": "scala"
  },
  "language_info": {
   "codemirror_mode": "text/x-scala",
   "file_extension": ".sc",
   "mimetype": "text/x-scala",
   "name": "scala",
   "nbconvert_exporter": "script",
   "version": "2.13.14"
  }
 },
 "nbformat": 4,
 "nbformat_minor": 2
}

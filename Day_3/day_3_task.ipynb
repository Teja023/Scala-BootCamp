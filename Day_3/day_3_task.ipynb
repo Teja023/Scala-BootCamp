{
 "cells": [
  {
   "cell_type": "markdown",
   "metadata": {},
   "source": [
    "### OOPs Concepts"
   ]
  },
  {
   "cell_type": "code",
   "execution_count": 9,
   "metadata": {},
   "outputs": [],
   "source": [
    "// Encapsulation => Class, Object, Instance Variables, Constructs\n",
    "// Abstraction => Access Specifiers\n",
    "// Polymorphism => Method (overloading, overriding)\n",
    "// Inheritence => Abstraction, companinion objects"
   ]
  },
  {
   "cell_type": "markdown",
   "metadata": {},
   "source": [
    "### Encapsulation"
   ]
  },
  {
   "cell_type": "markdown",
   "metadata": {},
   "source": [
    "#### Classes"
   ]
  },
  {
   "cell_type": "code",
   "execution_count": 4,
   "metadata": {},
   "outputs": [
    {
     "data": {
      "text/plain": [
       "defined \u001b[32mclass\u001b[39m \u001b[36mStudent\u001b[39m"
      ]
     },
     "execution_count": 4,
     "metadata": {},
     "output_type": "execute_result"
    }
   ],
   "source": [
    "class Student(\n",
    "    val name: String, \n",
    "    val email: String, \n",
    "    val contact_no: String, \n",
    "    var percentage: Double\n",
    ") {\n",
    "    def this(name: String) = this(name, \"\", \"\", 0)\n",
    "    def this(name: String, email: String, isEmail: Boolean) = this(name, email, \"\", 0)\n",
    "    def this(name: String, contact_no: String) = this(name, \"\", contact_no, 0)\n",
    "    def this(name: String, percentage: Double) = this(name, \"\", \"\", percentage)\n",
    "    // def this(name: String, email: String, contact_no: String, percentage: Double) = this(name, email, contact_no, percentage)\n",
    "\n",
    "    def greet() : String = s\"Hi $name welcome to the BootCamp\"\n",
    "}"
   ]
  },
  {
   "cell_type": "markdown",
   "metadata": {},
   "source": [
    "#### Object"
   ]
  },
  {
   "cell_type": "code",
   "execution_count": 3,
   "metadata": {},
   "outputs": [
    {
     "name": "stdout",
     "output_type": "stream",
     "text": [
      "Hi saketh welcome to the BootCamp\n",
      "saketh\n",
      "\n"
     ]
    },
    {
     "data": {
      "text/plain": [
       "\u001b[36mstudent1\u001b[39m: \u001b[32mStudent\u001b[39m = ammonite.$sess.cmd1$Helper$Student@3e7deb85"
      ]
     },
     "execution_count": 3,
     "metadata": {},
     "output_type": "execute_result"
    }
   ],
   "source": [
    "val student1 = new Student(name = \"saketh\")\n",
    "println(student1.greet())\n",
    "println(student1.name)\n",
    "println(student1.email)"
   ]
  },
  {
   "cell_type": "markdown",
   "metadata": {},
   "source": [
    "#### Instance variables"
   ]
  },
  {
   "cell_type": "code",
   "execution_count": 5,
   "metadata": {},
   "outputs": [
    {
     "name": "stdout",
     "output_type": "stream",
     "text": [
      "bhuvi\n",
      "abc@xyz.com\n",
      "123456789\n",
      "96.0\n"
     ]
    },
    {
     "data": {
      "text/plain": [
       "\u001b[36mstudent2\u001b[39m: \u001b[32mStudent\u001b[39m = ammonite.$sess.cmd4$Helper$Student@3b41a56d"
      ]
     },
     "execution_count": 5,
     "metadata": {},
     "output_type": "execute_result"
    }
   ],
   "source": [
    "val student2 = new Student(name = \"bhuvi\", email=\"abc@xyz.com\", contact_no = \"123456789\", percentage=96)\n",
    "\n",
    "println(student2.name)\n",
    "println(student2.email)\n",
    "println(student2.contact_no)\n",
    "println(student2.percentage)"
   ]
  },
  {
   "cell_type": "markdown",
   "metadata": {},
   "source": [
    "#### Types of constructs (Primary/ Auxiliary/ Default/ Private)\n"
   ]
  },
  {
   "cell_type": "code",
   "execution_count": 27,
   "metadata": {},
   "outputs": [
    {
     "name": "stdout",
     "output_type": "stream",
     "text": [
      "Person created: Akhil, age 25\n",
      "Akhil\n"
     ]
    },
    {
     "data": {
      "text/plain": [
       "defined \u001b[32mclass\u001b[39m \u001b[36mPerson\u001b[39m\n",
       "\u001b[36mperson\u001b[39m: \u001b[32mPerson\u001b[39m = ammonite.$sess.cmd27$Helper$Person@5d9b799b"
      ]
     },
     "execution_count": 27,
     "metadata": {},
     "output_type": "execute_result"
    }
   ],
   "source": [
    "class Person(val name: String, var age: Int) {\n",
    "    println(s\"Person created: $name, age $age\")\n",
    "}\n",
    "\n",
    "val person = new Person(\"Akhil\", 25)\n",
    "println(person.name) "
   ]
  },
  {
   "cell_type": "code",
   "execution_count": 30,
   "metadata": {},
   "outputs": [
    {
     "name": "stdout",
     "output_type": "stream",
     "text": [
      "Hi, I'm Bab and I'm 30 years old.\n"
     ]
    },
    {
     "data": {
      "text/plain": [
       "defined \u001b[32mclass\u001b[39m \u001b[36mPerson\u001b[39m\n",
       "\u001b[36mperson1\u001b[39m: \u001b[32mPerson\u001b[39m = ammonite.$sess.cmd30$Helper$Person@5bff3593\n",
       "\u001b[36mperson2\u001b[39m: \u001b[32mPerson\u001b[39m = ammonite.$sess.cmd30$Helper$Person@52a3a84f"
      ]
     },
     "execution_count": 30,
     "metadata": {},
     "output_type": "execute_result"
    }
   ],
   "source": [
    "class Person(val name: String, var age: Int) {\n",
    "    // Auxiliary constructor with default age\n",
    "    def this(name: String) = this(name, 0)\n",
    "\n",
    "    def greet(): String = s\"Hi, I'm $name and I'm $age years old.\"\n",
    "}\n",
    "\n",
    "val person1 = new Person(\"Bab\", 30)\n",
    "val person2 = new Person(\"charan\")\n",
    "println(person1.greet())"
   ]
  },
  {
   "cell_type": "code",
   "execution_count": 8,
   "metadata": {},
   "outputs": [
    {
     "data": {
      "text/plain": [
       "defined \u001b[32mclass\u001b[39m \u001b[36mPerson\u001b[39m\n",
       "defined \u001b[32mobject\u001b[39m \u001b[36mPerson\u001b[39m\n",
       "\u001b[36mperson\u001b[39m: \u001b[32mPerson\u001b[39m = ammonite.$sess.cmd8$Helper$Person@3c76f687"
      ]
     },
     "execution_count": 8,
     "metadata": {},
     "output_type": "execute_result"
    }
   ],
   "source": [
    "class Person private (val name: String, val age: Int) // privarte constructs\n",
    "\n",
    "object Person { // also called as companion  object\n",
    "    def apply(name: String, age: Int): Person = new Person(name, age)\n",
    "}\n",
    "\n",
    "val person = Person(\"Eva\", 22) // `apply` used for instantiation"
   ]
  },
  {
   "cell_type": "code",
   "execution_count": 9,
   "metadata": {},
   "outputs": [
    {
     "name": "stdout",
     "output_type": "stream",
     "text": [
      "Unknown\n",
      "25\n"
     ]
    },
    {
     "data": {
      "text/plain": [
       "defined \u001b[32mclass\u001b[39m \u001b[36mPerson\u001b[39m\n",
       "\u001b[36mperson\u001b[39m: \u001b[32mPerson\u001b[39m = ammonite.$sess.cmd9$Helper$Person@616ddf26"
      ]
     },
     "execution_count": 9,
     "metadata": {},
     "output_type": "execute_result"
    }
   ],
   "source": [
    "class Person(val name: String = \"Unknown\", var age: Int = 18)\n",
    "\n",
    "val person = new Person(age = 25) // `name` uses default value\n",
    "println(person.name) // \"Unknown\"\n",
    "println(person.age)  // 25"
   ]
  },
  {
   "cell_type": "markdown",
   "metadata": {},
   "source": [
    "### Abstraction\n"
   ]
  },
  {
   "cell_type": "markdown",
   "metadata": {},
   "source": [
    "#### Access Specifiers(Public/ Private/ Protected)\n"
   ]
  },
  {
   "cell_type": "code",
   "execution_count": 1,
   "metadata": {},
   "outputs": [
    {
     "data": {
      "text/plain": [
       "defined \u001b[32mclass\u001b[39m \u001b[36mEmployee\u001b[39m"
      ]
     },
     "execution_count": 1,
     "metadata": {},
     "output_type": "execute_result"
    }
   ],
   "source": [
    "class Employee(\n",
    "    val name: String,\n",
    "    val email: String,\n",
    "    protected val company_name: String,\n",
    "    private val employee_id: String\n",
    ") {\n",
    "    def this(name: String) = this(name, \"\", \"\", \"\")\n",
    "    def this(name: String, company_name: String) = this(name, \"\", company_name, \"\")\n",
    "    def this(name: String, email: String, company_name: String) = this(name, email, company_name, \" \")\n",
    "    def greetings() : String = s\"$company_name welcomes you $name\"\n",
    "}"
   ]
  },
  {
   "cell_type": "code",
   "execution_count": 3,
   "metadata": {},
   "outputs": [
    {
     "data": {
      "text/plain": [
       "defined \u001b[32mclass\u001b[39m \u001b[36mContractEmployee\u001b[39m"
      ]
     },
     "execution_count": 3,
     "metadata": {},
     "output_type": "execute_result"
    }
   ],
   "source": [
    "class ContractEmployee(val employee_name: String, val employee_company_name: String) extends Employee(employee_name, employee_company_name){\n",
    "    def this(employee_name: String) = this(employee_name, \"abc\")\n",
    "    def greet() : String = s\"Hi $name welcome to the $company_name\"\n",
    "}"
   ]
  },
  {
   "cell_type": "code",
   "execution_count": 4,
   "metadata": {},
   "outputs": [
    {
     "name": "stdout",
     "output_type": "stream",
     "text": [
      "Hi Teja welcome to the Apple\n",
      "Apple welcomes you Teja\n"
     ]
    },
    {
     "data": {
      "text/plain": [
       "\u001b[36memployee2\u001b[39m: \u001b[32mContractEmployee\u001b[39m = ammonite.$sess.cmd3$Helper$ContractEmployee@7ce60dff"
      ]
     },
     "execution_count": 4,
     "metadata": {},
     "output_type": "execute_result"
    }
   ],
   "source": [
    "val employee2 = new ContractEmployee(\"Teja\", \"Apple\") \n",
    "println(employee2.greet())\n",
    "println(employee2.greetings())"
   ]
  },
  {
   "cell_type": "code",
   "execution_count": 9,
   "metadata": {},
   "outputs": [
    {
     "name": "stdout",
     "output_type": "stream",
     "text": [
      "Hi Abhi welcome to the abc\n",
      "abc welcomes you Abhi\n"
     ]
    },
    {
     "data": {
      "text/plain": [
       "\u001b[36memployee1\u001b[39m: \u001b[32mContractEmployee\u001b[39m = ammonite.$sess.cmd3$Helper$ContractEmployee@51be58a3"
      ]
     },
     "execution_count": 9,
     "metadata": {},
     "output_type": "execute_result"
    }
   ],
   "source": [
    "val employee1 = new ContractEmployee(\"Abhi\")\n",
    "\n",
    "println(employee1.greet())\n",
    "println(employee1.greetings())"
   ]
  },
  {
   "cell_type": "markdown",
   "metadata": {},
   "source": [
    "### Polymorphism"
   ]
  },
  {
   "cell_type": "markdown",
   "metadata": {},
   "source": [
    "#### Method overloading"
   ]
  },
  {
   "cell_type": "code",
   "execution_count": 14,
   "metadata": {},
   "outputs": [
    {
     "name": "stdout",
     "output_type": "stream",
     "text": [
      "5\n",
      "9\n",
      "6.9\n"
     ]
    },
    {
     "data": {
      "text/plain": [
       "defined \u001b[32mclass\u001b[39m \u001b[36mCalculator\u001b[39m\n",
       "\u001b[36mcalc\u001b[39m: \u001b[32mCalculator\u001b[39m = ammonite.$sess.cmd14$Helper$Calculator@789e39de"
      ]
     },
     "execution_count": 14,
     "metadata": {},
     "output_type": "execute_result"
    }
   ],
   "source": [
    "class Calculator {\n",
    "  def add(a: Int, b: Int): Int = a + b\n",
    "\n",
    "  def add(a: Int, b: Int, c: Int): Int = a + b + c\n",
    "\n",
    "  def add(a: Double, b: Double): Double = a + b\n",
    "}\n",
    "\n",
    "val calc = new Calculator\n",
    "println(calc.add(2, 3))\n",
    "println(calc.add(2, 3, 4))\n",
    "println(calc.add(3.4, 3.5))\n"
   ]
  },
  {
   "cell_type": "markdown",
   "metadata": {},
   "source": [
    "#### Method Overriding"
   ]
  },
  {
   "cell_type": "code",
   "execution_count": 24,
   "metadata": {},
   "outputs": [
    {
     "name": "stdout",
     "output_type": "stream",
     "text": [
      "Bark\n",
      "Meow\n",
      "some sound\n"
     ]
    },
    {
     "data": {
      "text/plain": [
       "defined \u001b[32mclass\u001b[39m \u001b[36mAnimal\u001b[39m\n",
       "defined \u001b[32mclass\u001b[39m \u001b[36mDog\u001b[39m\n",
       "defined \u001b[32mclass\u001b[39m \u001b[36mCat\u001b[39m\n",
       "\u001b[36manimals\u001b[39m: \u001b[32mList\u001b[39m[\u001b[32mAnimal\u001b[39m] = \u001b[33mList\u001b[39m(\n",
       "  ammonite.$sess.cmd24$Helper$Dog@63b0eacb,\n",
       "  ammonite.$sess.cmd24$Helper$Cat@3aab93c6,\n",
       "  ammonite.$sess.cmd24$Helper$Animal@178cc031\n",
       ")"
      ]
     },
     "execution_count": 24,
     "metadata": {},
     "output_type": "execute_result"
    }
   ],
   "source": [
    "class Animal {\n",
    "  def sound(): String = \"some sound\"\n",
    "}\n",
    "\n",
    "class Dog extends Animal {\n",
    "  override def sound(): String = \"Bark\"\n",
    "}\n",
    "\n",
    "class Cat extends Animal {\n",
    "    override def sound(): String = \"Meow\"\n",
    "}\n",
    "\n",
    "\n",
    "val animals = List(new Dog, new Cat, new Animal)\n",
    "\n",
    "animals.foreach(animal => println(animal.sound()))\n"
   ]
  },
  {
   "cell_type": "code",
   "execution_count": 1,
   "metadata": {},
   "outputs": [
    {
     "name": "stdout",
     "output_type": "stream",
     "text": [
      "3.141592653589793\n",
      "78.53981633974483\n"
     ]
    },
    {
     "data": {
      "text/plain": [
       "defined \u001b[32mclass\u001b[39m \u001b[36mShape\u001b[39m\n",
       "defined \u001b[32mclass\u001b[39m \u001b[36mCircle\u001b[39m\n",
       "\u001b[36mcircle\u001b[39m: \u001b[32mCircle\u001b[39m = ammonite.$sess.cmd1$Helper$Circle@18542d90"
      ]
     },
     "execution_count": 1,
     "metadata": {},
     "output_type": "execute_result"
    }
   ],
   "source": [
    "// Applying overloading and overriding over methods\n",
    "class Shape {\n",
    "  def area(): Double = 0.0\n",
    "  def area(length: Double): Double = length * length\n",
    "}\n",
    "\n",
    "class Circle extends Shape {\n",
    "  override def area(): Double = scala.math.Pi\n",
    "  override def area(radius: Double): Double = scala.math.Pi * radius * radius\n",
    "}\n",
    "\n",
    "// Usage\n",
    "val circle = new Circle\n",
    "println(circle.area())\n",
    "println(circle.area(5))"
   ]
  },
  {
   "cell_type": "markdown",
   "metadata": {},
   "source": [
    "### Inheritence\n"
   ]
  },
  {
   "cell_type": "markdown",
   "metadata": {},
   "source": [
    "#### Super and Sub Classes"
   ]
  },
  {
   "cell_type": "code",
   "execution_count": 34,
   "metadata": {},
   "outputs": [
    {
     "name": "stdout",
     "output_type": "stream",
     "text": [
      "Some sound but specifically Bark\n"
     ]
    },
    {
     "data": {
      "text/plain": [
       "defined \u001b[32mclass\u001b[39m \u001b[36mAnimal\u001b[39m\n",
       "defined \u001b[32mclass\u001b[39m \u001b[36mDog\u001b[39m\n",
       "\u001b[36mdog\u001b[39m: \u001b[32mDog\u001b[39m = ammonite.$sess.cmd34$Helper$Dog@2d239108"
      ]
     },
     "execution_count": 34,
     "metadata": {},
     "output_type": "execute_result"
    }
   ],
   "source": [
    "class Animal {\n",
    "  def sound(): String = \"Some sound\"\n",
    "}\n",
    "\n",
    "class Dog extends Animal {\n",
    "    // Override the sound method\n",
    "  override def sound(): String = {\n",
    "    // Use the superclass's sound method\n",
    "    super.sound() + \" but specifically Bark\"\n",
    "  }\n",
    "}\n",
    "\n",
    "\n",
    "val dog = new Dog\n",
    "println(dog.sound())\n"
   ]
  },
  {
   "cell_type": "markdown",
   "metadata": {},
   "source": [
    "#### Abstracts"
   ]
  },
  {
   "cell_type": "code",
   "execution_count": 37,
   "metadata": {},
   "outputs": [
    {
     "name": "stdout",
     "output_type": "stream",
     "text": [
      "Meow\n"
     ]
    },
    {
     "data": {
      "text/plain": [
       "defined \u001b[32mclass\u001b[39m \u001b[36mAnimal\u001b[39m\n",
       "defined \u001b[32mclass\u001b[39m \u001b[36mCat\u001b[39m\n",
       "\u001b[36mcat\u001b[39m: \u001b[32mCat\u001b[39m = ammonite.$sess.cmd37$Helper$Cat@5f708036"
      ]
     },
     "execution_count": 37,
     "metadata": {},
     "output_type": "execute_result"
    }
   ],
   "source": [
    "abstract class Animal {\n",
    "  def sound(): String  // Abstract method where the method definition is given by sub-classes\n",
    "}\n",
    "\n",
    "class Cat extends Animal {\n",
    "  override def sound(): String = \"Meow\"\n",
    "}\n",
    "\n",
    "val cat = new Cat\n",
    "println(cat.sound())\n"
   ]
  },
  {
   "cell_type": "markdown",
   "metadata": {},
   "source": [
    "#### Companion Objects\n"
   ]
  },
  {
   "cell_type": "code",
   "execution_count": 41,
   "metadata": {},
   "outputs": [
    {
     "data": {
      "text/plain": [
       "defined \u001b[32mclass\u001b[39m \u001b[36mPerson\u001b[39m\n",
       "defined \u001b[32mobject\u001b[39m \u001b[36mPerson\u001b[39m"
      ]
     },
     "execution_count": 41,
     "metadata": {},
     "output_type": "execute_result"
    }
   ],
   "source": [
    "class Person(val name: String, val age: Int) {\n",
    "  def greet(): String = s\"Hello, my name is $name and I am $age years old.\"\n",
    "}\n",
    "\n",
    "object Person {\n",
    "  def apply(name: String, age: Int): Person = new Person(name, age)\n",
    "  \n",
    "  def defaultPerson(name: String): Person = new Person(name, age = 30)\n",
    "}\n"
   ]
  },
  {
   "cell_type": "code",
   "execution_count": 40,
   "metadata": {},
   "outputs": [
    {
     "name": "stdout",
     "output_type": "stream",
     "text": [
      "Hello, my name is John and I am 25 years old.\n",
      "Hello, my name is Jane and I am 30 years old.\n"
     ]
    },
    {
     "data": {
      "text/plain": [
       "\u001b[36mjohn\u001b[39m: \u001b[32mPerson\u001b[39m = ammonite.$sess.cmd38$Helper$Person@78a23fc5\n",
       "\u001b[36mdefaultJane\u001b[39m: \u001b[32mPerson\u001b[39m = ammonite.$sess.cmd38$Helper$Person@6c00ca57"
      ]
     },
     "execution_count": 40,
     "metadata": {},
     "output_type": "execute_result"
    }
   ],
   "source": [
    "val john = Person(\"John\", 25)            \n",
    "val defaultJane = Person.defaultPerson(\"Jane\") \n",
    "\n",
    "println(john.greet())\n",
    "println(defaultJane.greet())\n"
   ]
  }
 ],
 "metadata": {
  "kernelspec": {
   "display_name": "Scala",
   "language": "scala",
   "name": "scala"
  },
  "language_info": {
   "codemirror_mode": "text/x-scala",
   "file_extension": ".sc",
   "mimetype": "text/x-scala",
   "name": "scala",
   "nbconvert_exporter": "script",
   "version": "2.13.14"
  }
 },
 "nbformat": 4,
 "nbformat_minor": 2
}

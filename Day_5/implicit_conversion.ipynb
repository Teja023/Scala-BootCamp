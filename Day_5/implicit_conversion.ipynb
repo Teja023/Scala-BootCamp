{
 "cells": [
  {
   "cell_type": "markdown",
   "metadata": {},
   "source": [
    "### Implicit Conversion\n"
   ]
  },
  {
   "cell_type": "code",
   "execution_count": 1,
   "metadata": {},
   "outputs": [
    {
     "data": {
      "text/plain": [
       "defined \u001b[32mclass\u001b[39m \u001b[36mStudent\u001b[39m"
      ]
     },
     "execution_count": 1,
     "metadata": {},
     "output_type": "execute_result"
    }
   ],
   "source": [
    "case class Student(\n",
    "    val sno: Int,\n",
    "    val name: String,\n",
    "    val score: Int\n",
    ")"
   ]
  },
  {
   "cell_type": "code",
   "execution_count": 2,
   "metadata": {},
   "outputs": [
    {
     "data": {
      "text/plain": [
       "\u001b[36mstudent_list\u001b[39m: \u001b[32mList\u001b[39m[\u001b[32mStudent\u001b[39m] = \u001b[33mList\u001b[39m()"
      ]
     },
     "execution_count": 2,
     "metadata": {},
     "output_type": "execute_result"
    }
   ],
   "source": [
    "val student_list : List[Student] = List()"
   ]
  },
  {
   "cell_type": "code",
   "execution_count": 3,
   "metadata": {},
   "outputs": [
    {
     "data": {
      "text/plain": [
       "defined \u001b[32mclass\u001b[39m \u001b[36mStudentSeparation\u001b[39m"
      ]
     },
     "execution_count": 3,
     "metadata": {},
     "output_type": "execute_result"
    }
   ],
   "source": [
    "implicit class StudentSeparation(st: List[Student]) {\n",
    "    def %>(percentage: Int): List[Student] = st.filter(student => student.score > percentage)\n",
    "    def %<(percentage: Int): List[Student] = st.filter(student => student.score < percentage)\n",
    "}\n"
   ]
  },
  {
   "cell_type": "code",
   "execution_count": 4,
   "metadata": {},
   "outputs": [
    {
     "data": {
      "text/plain": [
       "\u001b[36mstudent_list\u001b[39m: \u001b[32mList\u001b[39m[\u001b[32mStudent\u001b[39m] = \u001b[33mList\u001b[39m(\n",
       "  \u001b[33mStudent\u001b[39m(sno = \u001b[32m1\u001b[39m, name = \u001b[32m\"Alice\"\u001b[39m, score = \u001b[32m85\u001b[39m),\n",
       "  \u001b[33mStudent\u001b[39m(sno = \u001b[32m2\u001b[39m, name = \u001b[32m\"Bob\"\u001b[39m, score = \u001b[32m75\u001b[39m),\n",
       "  \u001b[33mStudent\u001b[39m(sno = \u001b[32m3\u001b[39m, name = \u001b[32m\"Charlie\"\u001b[39m, score = \u001b[32m90\u001b[39m),\n",
       "  \u001b[33mStudent\u001b[39m(sno = \u001b[32m4\u001b[39m, name = \u001b[32m\"Abhi\"\u001b[39m, score = \u001b[32m70\u001b[39m),\n",
       "  \u001b[33mStudent\u001b[39m(sno = \u001b[32m5\u001b[39m, name = \u001b[32m\"Avni\"\u001b[39m, score = \u001b[32m95\u001b[39m)\n",
       ")"
      ]
     },
     "execution_count": 4,
     "metadata": {},
     "output_type": "execute_result"
    }
   ],
   "source": [
    "val student_list = List(\n",
    "    Student(1, \"Alice\", 85),\n",
    "    Student(2, \"Bob\", 75),\n",
    "    Student(3, \"Charlie\", 90),\n",
    "    Student(4, \"Abhi\", 70),\n",
    "    Student(5, \"Avni\", 95)\n",
    ")"
   ]
  },
  {
   "cell_type": "code",
   "execution_count": 5,
   "metadata": {},
   "outputs": [
    {
     "data": {
      "text/plain": [
       "\u001b[36mscored_greater\u001b[39m: \u001b[32mList\u001b[39m[\u001b[32mStudent\u001b[39m] = \u001b[33mList\u001b[39m(\n",
       "  \u001b[33mStudent\u001b[39m(sno = \u001b[32m1\u001b[39m, name = \u001b[32m\"Alice\"\u001b[39m, score = \u001b[32m85\u001b[39m),\n",
       "  \u001b[33mStudent\u001b[39m(sno = \u001b[32m3\u001b[39m, name = \u001b[32m\"Charlie\"\u001b[39m, score = \u001b[32m90\u001b[39m),\n",
       "  \u001b[33mStudent\u001b[39m(sno = \u001b[32m5\u001b[39m, name = \u001b[32m\"Avni\"\u001b[39m, score = \u001b[32m95\u001b[39m)\n",
       ")\n",
       "\u001b[36mscored_lesser\u001b[39m: \u001b[32mList\u001b[39m[\u001b[32mStudent\u001b[39m] = \u001b[33mList\u001b[39m(\n",
       "  \u001b[33mStudent\u001b[39m(sno = \u001b[32m2\u001b[39m, name = \u001b[32m\"Bob\"\u001b[39m, score = \u001b[32m75\u001b[39m),\n",
       "  \u001b[33mStudent\u001b[39m(sno = \u001b[32m4\u001b[39m, name = \u001b[32m\"Abhi\"\u001b[39m, score = \u001b[32m70\u001b[39m)\n",
       ")"
      ]
     },
     "execution_count": 5,
     "metadata": {},
     "output_type": "execute_result"
    }
   ],
   "source": [
    "val scored_greater = student_list %> 80\n",
    "val scored_lesser = student_list %< 80"
   ]
  },
  {
   "cell_type": "code",
   "execution_count": 6,
   "metadata": {},
   "outputs": [
    {
     "name": "stdout",
     "output_type": "stream",
     "text": [
      "List(Student(1,Alice,85), Student(3,Charlie,90), Student(5,Avni,95))\n",
      "List(Student(2,Bob,75), Student(4,Abhi,70))\n"
     ]
    }
   ],
   "source": [
    "println(scored_greater)\n",
    "println(scored_lesser)"
   ]
  },
  {
   "cell_type": "code",
   "execution_count": 7,
   "metadata": {},
   "outputs": [
    {
     "name": "stdout",
     "output_type": "stream",
     "text": [
      "List(Student(1,Alice,85), Student(2,Bob,75), Student(3,Charlie,90), Student(4,Abhi,70), Student(5,Avni,95))"
     ]
    }
   ],
   "source": [
    "print(student_list)"
   ]
  },
  {
   "cell_type": "code",
   "execution_count": 29,
   "metadata": {},
   "outputs": [
    {
     "data": {
      "text/plain": [
       "\u001b[32mimport \u001b[39m\u001b[36mscala.collection.mutable.ListBuffer\u001b[39m\n",
       "defined \u001b[32mclass\u001b[39m \u001b[36mStudentOps\u001b[39m"
      ]
     },
     "execution_count": 29,
     "metadata": {},
     "output_type": "execute_result"
    }
   ],
   "source": [
    "import scala.collection.mutable.ListBuffer\n",
    "implicit class StudentOps(studentList: ListBuffer[Student]) {\n",
    "    def add(s: Student) : ListBuffer[Student] = {\n",
    "        studentList += s\n",
    "    }\n",
    "    def add(tuple : (Int, String, Int)) : ListBuffer[Student] = {\n",
    "        val newStudent: Student = tuple match {\n",
    "            case (sno, name, score) => Student(sno, name, score)\n",
    "        }\n",
    "        studentList += newStudent\n",
    "    }\n",
    "}"
   ]
  },
  {
   "cell_type": "code",
   "execution_count": 30,
   "metadata": {},
   "outputs": [
    {
     "data": {
      "text/plain": [
       "\u001b[36mbuffer_list\u001b[39m: \u001b[32mListBuffer\u001b[39m[\u001b[32mStudent\u001b[39m] = \u001b[33mListBuffer\u001b[39m(\n",
       "  \u001b[33mStudent\u001b[39m(sno = \u001b[32m1\u001b[39m, name = \u001b[32m\"Alice\"\u001b[39m, score = \u001b[32m85\u001b[39m),\n",
       "  \u001b[33mStudent\u001b[39m(sno = \u001b[32m2\u001b[39m, name = \u001b[32m\"Bob\"\u001b[39m, score = \u001b[32m75\u001b[39m),\n",
       "  \u001b[33mStudent\u001b[39m(sno = \u001b[32m3\u001b[39m, name = \u001b[32m\"Charlie\"\u001b[39m, score = \u001b[32m90\u001b[39m),\n",
       "  \u001b[33mStudent\u001b[39m(sno = \u001b[32m4\u001b[39m, name = \u001b[32m\"Abhi\"\u001b[39m, score = \u001b[32m70\u001b[39m),\n",
       "  \u001b[33mStudent\u001b[39m(sno = \u001b[32m5\u001b[39m, name = \u001b[32m\"Avni\"\u001b[39m, score = \u001b[32m95\u001b[39m)\n",
       ")"
      ]
     },
     "execution_count": 30,
     "metadata": {},
     "output_type": "execute_result"
    }
   ],
   "source": [
    "val buffer_list = ListBuffer(\n",
    "    Student(1, \"Alice\", 85),\n",
    "    Student(2, \"Bob\", 75),\n",
    "    Student(3, \"Charlie\", 90),\n",
    "    Student(4, \"Abhi\", 70),\n",
    "    Student(5, \"Avni\", 95)\n",
    ")"
   ]
  },
  {
   "cell_type": "code",
   "execution_count": 31,
   "metadata": {},
   "outputs": [
    {
     "data": {
      "text/plain": [
       "\u001b[36mres31_0\u001b[39m: \u001b[32mListBuffer\u001b[39m[\u001b[32mStudent\u001b[39m] = \u001b[33mListBuffer\u001b[39m(\n",
       "  \u001b[33mStudent\u001b[39m(sno = \u001b[32m1\u001b[39m, name = \u001b[32m\"Alice\"\u001b[39m, score = \u001b[32m85\u001b[39m),\n",
       "  \u001b[33mStudent\u001b[39m(sno = \u001b[32m2\u001b[39m, name = \u001b[32m\"Bob\"\u001b[39m, score = \u001b[32m75\u001b[39m),\n",
       "  \u001b[33mStudent\u001b[39m(sno = \u001b[32m3\u001b[39m, name = \u001b[32m\"Charlie\"\u001b[39m, score = \u001b[32m90\u001b[39m),\n",
       "  \u001b[33mStudent\u001b[39m(sno = \u001b[32m4\u001b[39m, name = \u001b[32m\"Abhi\"\u001b[39m, score = \u001b[32m70\u001b[39m),\n",
       "  \u001b[33mStudent\u001b[39m(sno = \u001b[32m5\u001b[39m, name = \u001b[32m\"Avni\"\u001b[39m, score = \u001b[32m95\u001b[39m),\n",
       "  \u001b[33mStudent\u001b[39m(sno = \u001b[32m6\u001b[39m, name = \u001b[32m\"akash\"\u001b[39m, score = \u001b[32m65\u001b[39m),\n",
       "  \u001b[33mStudent\u001b[39m(sno = \u001b[32m7\u001b[39m, name = \u001b[32m\"akshay\"\u001b[39m, score = \u001b[32m95\u001b[39m)\n",
       ")\n",
       "\u001b[36mres31_1\u001b[39m: \u001b[32mListBuffer\u001b[39m[\u001b[32mStudent\u001b[39m] = \u001b[33mListBuffer\u001b[39m(\n",
       "  \u001b[33mStudent\u001b[39m(sno = \u001b[32m1\u001b[39m, name = \u001b[32m\"Alice\"\u001b[39m, score = \u001b[32m85\u001b[39m),\n",
       "  \u001b[33mStudent\u001b[39m(sno = \u001b[32m2\u001b[39m, name = \u001b[32m\"Bob\"\u001b[39m, score = \u001b[32m75\u001b[39m),\n",
       "  \u001b[33mStudent\u001b[39m(sno = \u001b[32m3\u001b[39m, name = \u001b[32m\"Charlie\"\u001b[39m, score = \u001b[32m90\u001b[39m),\n",
       "  \u001b[33mStudent\u001b[39m(sno = \u001b[32m4\u001b[39m, name = \u001b[32m\"Abhi\"\u001b[39m, score = \u001b[32m70\u001b[39m),\n",
       "  \u001b[33mStudent\u001b[39m(sno = \u001b[32m5\u001b[39m, name = \u001b[32m\"Avni\"\u001b[39m, score = \u001b[32m95\u001b[39m),\n",
       "  \u001b[33mStudent\u001b[39m(sno = \u001b[32m6\u001b[39m, name = \u001b[32m\"akash\"\u001b[39m, score = \u001b[32m65\u001b[39m),\n",
       "  \u001b[33mStudent\u001b[39m(sno = \u001b[32m7\u001b[39m, name = \u001b[32m\"akshay\"\u001b[39m, score = \u001b[32m95\u001b[39m)\n",
       ")"
      ]
     },
     "execution_count": 31,
     "metadata": {},
     "output_type": "execute_result"
    }
   ],
   "source": [
    "buffer_list.add(Student(6, \"akash\", 65))\n",
    "buffer_list.add(Student(7, \"akshay\", 95))"
   ]
  },
  {
   "cell_type": "code",
   "execution_count": 32,
   "metadata": {},
   "outputs": [
    {
     "name": "stdout",
     "output_type": "stream",
     "text": [
      "ListBuffer(Student(1,Alice,85), Student(2,Bob,75), Student(3,Charlie,90), Student(4,Abhi,70), Student(5,Avni,95), Student(6,akash,65), Student(7,akshay,95))"
     ]
    }
   ],
   "source": [
    "print(buffer_list)"
   ]
  },
  {
   "cell_type": "code",
   "execution_count": 33,
   "metadata": {},
   "outputs": [
    {
     "data": {
      "text/plain": [
       "\u001b[36mres33\u001b[39m: \u001b[32mListBuffer\u001b[39m[\u001b[32mStudent\u001b[39m] = \u001b[33mListBuffer\u001b[39m(\n",
       "  \u001b[33mStudent\u001b[39m(sno = \u001b[32m1\u001b[39m, name = \u001b[32m\"Alice\"\u001b[39m, score = \u001b[32m85\u001b[39m),\n",
       "  \u001b[33mStudent\u001b[39m(sno = \u001b[32m2\u001b[39m, name = \u001b[32m\"Bob\"\u001b[39m, score = \u001b[32m75\u001b[39m),\n",
       "  \u001b[33mStudent\u001b[39m(sno = \u001b[32m3\u001b[39m, name = \u001b[32m\"Charlie\"\u001b[39m, score = \u001b[32m90\u001b[39m),\n",
       "  \u001b[33mStudent\u001b[39m(sno = \u001b[32m4\u001b[39m, name = \u001b[32m\"Abhi\"\u001b[39m, score = \u001b[32m70\u001b[39m),\n",
       "  \u001b[33mStudent\u001b[39m(sno = \u001b[32m5\u001b[39m, name = \u001b[32m\"Avni\"\u001b[39m, score = \u001b[32m95\u001b[39m),\n",
       "  \u001b[33mStudent\u001b[39m(sno = \u001b[32m6\u001b[39m, name = \u001b[32m\"akash\"\u001b[39m, score = \u001b[32m65\u001b[39m),\n",
       "  \u001b[33mStudent\u001b[39m(sno = \u001b[32m7\u001b[39m, name = \u001b[32m\"akshay\"\u001b[39m, score = \u001b[32m95\u001b[39m),\n",
       "  \u001b[33mStudent\u001b[39m(sno = \u001b[32m8\u001b[39m, name = \u001b[32m\"anandh\"\u001b[39m, score = \u001b[32m56\u001b[39m)\n",
       ")"
      ]
     },
     "execution_count": 33,
     "metadata": {},
     "output_type": "execute_result"
    }
   ],
   "source": [
    "buffer_list.add((8, \"anandh\", 56))"
   ]
  },
  {
   "cell_type": "code",
   "execution_count": 34,
   "metadata": {},
   "outputs": [
    {
     "name": "stdout",
     "output_type": "stream",
     "text": [
      "ListBuffer(Student(1,Alice,85), Student(2,Bob,75), Student(3,Charlie,90), Student(4,Abhi,70), Student(5,Avni,95), Student(6,akash,65), Student(7,akshay,95), Student(8,anandh,56))"
     ]
    }
   ],
   "source": [
    "print(buffer_list)"
   ]
  },
  {
   "cell_type": "code",
   "execution_count": 36,
   "metadata": {},
   "outputs": [
    {
     "data": {
      "text/plain": [
       "defined \u001b[32mclass\u001b[39m \u001b[36mArrayFiltering\u001b[39m"
      ]
     },
     "execution_count": 36,
     "metadata": {},
     "output_type": "execute_result"
    }
   ],
   "source": [
    "implicit class ArrayFiltering(array: Array[Student]) {\n",
    "    def filterRecords(logic : Student => Boolean) : Array[Student] = {\n",
    "        array.filter(student => logic(student))\n",
    "    }\n",
    "}"
   ]
  },
  {
   "cell_type": "code",
   "execution_count": 35,
   "metadata": {},
   "outputs": [
    {
     "data": {
      "text/plain": [
       "\u001b[36mstudentArray\u001b[39m: \u001b[32mArray\u001b[39m[\u001b[32mStudent\u001b[39m] = \u001b[33mArray\u001b[39m(\n",
       "  \u001b[33mStudent\u001b[39m(sno = \u001b[32m1\u001b[39m, name = \u001b[32m\"Alice\"\u001b[39m, score = \u001b[32m85\u001b[39m),\n",
       "  \u001b[33mStudent\u001b[39m(sno = \u001b[32m2\u001b[39m, name = \u001b[32m\"Bob\"\u001b[39m, score = \u001b[32m75\u001b[39m),\n",
       "  \u001b[33mStudent\u001b[39m(sno = \u001b[32m3\u001b[39m, name = \u001b[32m\"Charlie\"\u001b[39m, score = \u001b[32m90\u001b[39m),\n",
       "  \u001b[33mStudent\u001b[39m(sno = \u001b[32m4\u001b[39m, name = \u001b[32m\"Abhi\"\u001b[39m, score = \u001b[32m70\u001b[39m),\n",
       "  \u001b[33mStudent\u001b[39m(sno = \u001b[32m5\u001b[39m, name = \u001b[32m\"Avni\"\u001b[39m, score = \u001b[32m95\u001b[39m)\n",
       ")"
      ]
     },
     "execution_count": 35,
     "metadata": {},
     "output_type": "execute_result"
    }
   ],
   "source": [
    "val studentArray = Array(\n",
    "    Student(1, \"Alice\", 85),\n",
    "    Student(2, \"Bob\", 75),\n",
    "    Student(3, \"Charlie\", 90),\n",
    "    Student(4, \"Abhi\", 70),\n",
    "    Student(5, \"Avni\", 95)\n",
    ")"
   ]
  },
  {
   "cell_type": "code",
   "execution_count": 41,
   "metadata": {},
   "outputs": [
    {
     "data": {
      "text/plain": [
       "\u001b[36mfilteredArray\u001b[39m: \u001b[32mArray\u001b[39m[\u001b[32mStudent\u001b[39m] = \u001b[33mArray\u001b[39m(\n",
       "  \u001b[33mStudent\u001b[39m(sno = \u001b[32m1\u001b[39m, name = \u001b[32m\"Alice\"\u001b[39m, score = \u001b[32m85\u001b[39m)\n",
       ")"
      ]
     },
     "execution_count": 41,
     "metadata": {},
     "output_type": "execute_result"
    }
   ],
   "source": [
    "val filteredArray = studentArray.filterRecords(x => x.name  == \"Alice\")"
   ]
  }
 ],
 "metadata": {
  "kernelspec": {
   "display_name": "Scala",
   "language": "scala",
   "name": "scala"
  },
  "language_info": {
   "codemirror_mode": "text/x-scala",
   "file_extension": ".sc",
   "mimetype": "text/x-scala",
   "name": "scala",
   "nbconvert_exporter": "script",
   "version": "2.13.14"
  }
 },
 "nbformat": 4,
 "nbformat_minor": 2
}

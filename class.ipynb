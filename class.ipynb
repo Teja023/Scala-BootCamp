{
 "cells": [
  {
   "cell_type": "markdown",
   "metadata": {},
   "source": [
    "#### case classes"
   ]
  },
  {
   "cell_type": "code",
   "execution_count": 1,
   "metadata": {},
   "outputs": [
    {
     "data": {
      "text/plain": [
       "defined \u001b[32mclass\u001b[39m \u001b[36mStudent\u001b[39m"
      ]
     },
     "execution_count": 1,
     "metadata": {},
     "output_type": "execute_result"
    }
   ],
   "source": [
    "class Student(\n",
    "    val name: String,\n",
    "    val className: Int\n",
    "){\n",
    "    def greet() : String = s\"$name is from $className class\"\n",
    "}"
   ]
  },
  {
   "cell_type": "code",
   "execution_count": 3,
   "metadata": {},
   "outputs": [
    {
     "data": {
      "text/plain": [
       "defined \u001b[32mclass\u001b[39m \u001b[36mStudentcase\u001b[39m"
      ]
     },
     "execution_count": 3,
     "metadata": {},
     "output_type": "execute_result"
    }
   ],
   "source": [
    "case class Studentcase(\n",
    "    val name: String,\n",
    "    val className: Int\n",
    "){\n",
    "    def greet() : String = s\"$name is from $className class\"\n",
    "}"
   ]
  },
  {
   "cell_type": "code",
   "execution_count": 4,
   "metadata": {},
   "outputs": [
    {
     "data": {
      "text/plain": [
       "\u001b[36mstudent1\u001b[39m: \u001b[32mStudent\u001b[39m = ammonite.$sess.cmd1$Helper$Student@3d8ccd7e\n",
       "\u001b[36mstudent2\u001b[39m: \u001b[32mStudentcase\u001b[39m = \u001b[33mStudentcase\u001b[39m(name = \u001b[32m\"Abhi\"\u001b[39m, className = \u001b[32m8\u001b[39m)"
      ]
     },
     "execution_count": 4,
     "metadata": {},
     "output_type": "execute_result"
    }
   ],
   "source": [
    "val student1 = new Student(\"Abhi\", 8)\n",
    "val student2 = Studentcase(\"Abhi\", 8)"
   ]
  },
  {
   "cell_type": "code",
   "execution_count": 5,
   "metadata": {},
   "outputs": [
    {
     "name": "stdout",
     "output_type": "stream",
     "text": [
      "ammonite.$sess.cmd1$Helper$Student@3d8ccd7e\n",
      "Studentcase(Abhi,8)\n"
     ]
    }
   ],
   "source": [
    "println(student1)\n",
    "println(student2)"
   ]
  },
  {
   "cell_type": "code",
   "execution_count": 6,
   "metadata": {},
   "outputs": [
    {
     "name": "stdout",
     "output_type": "stream",
     "text": [
      "this is a case class with Abhi and 8 as instance variables\n"
     ]
    }
   ],
   "source": [
    "println(student2 match {\n",
    "    case Studentcase(a, b) => s\"this is a case class with $a and $b as instance variables\"\n",
    "    case _ => s\"not a case class\"\n",
    "})"
   ]
  },
  {
   "cell_type": "code",
   "execution_count": 50,
   "metadata": {},
   "outputs": [
    {
     "data": {
      "text/plain": [
       "defined \u001b[32mclass\u001b[39m \u001b[36mX\u001b[39m\n",
       "defined \u001b[32mclass\u001b[39m \u001b[36mY\u001b[39m"
      ]
     },
     "execution_count": 50,
     "metadata": {},
     "output_type": "execute_result"
    }
   ],
   "source": [
    "class X(val a: String, val b:String){\n",
    "    def this(a: String) = this(a, \"\")\n",
    "    def greet():String = s\"$a => $b\"\n",
    "}\n",
    "\n",
    "class Y(val c: String, val d:String) extends X(c, d){\n",
    "    def this(c: String) = this(c, \"\")\n",
    "    override def greet() :String = s\"$d => $c\"\n",
    "}"
   ]
  },
  {
   "cell_type": "code",
   "execution_count": 51,
   "metadata": {},
   "outputs": [
    {
     "name": "stdout",
     "output_type": "stream",
     "text": [
      "abc => def\n"
     ]
    },
    {
     "data": {
      "text/plain": [
       "\u001b[36mn1\u001b[39m: \u001b[32mX\u001b[39m = ammonite.$sess.cmd50$Helper$X@47a7d60f"
      ]
     },
     "execution_count": 51,
     "metadata": {},
     "output_type": "execute_result"
    }
   ],
   "source": [
    "val n1 = new X(\"abc\", \"def\")\n",
    "println(n1.greet())"
   ]
  },
  {
   "cell_type": "code",
   "execution_count": 52,
   "metadata": {},
   "outputs": [
    {
     "name": "stdout",
     "output_type": "stream",
     "text": [
      "abc => \n"
     ]
    },
    {
     "data": {
      "text/plain": [
       "\u001b[36mn2\u001b[39m: \u001b[32mX\u001b[39m = ammonite.$sess.cmd50$Helper$X@780437ce"
      ]
     },
     "execution_count": 52,
     "metadata": {},
     "output_type": "execute_result"
    }
   ],
   "source": [
    "val n2 = new X(\"abc\")\n",
    "println(n2.greet())"
   ]
  },
  {
   "cell_type": "code",
   "execution_count": 53,
   "metadata": {},
   "outputs": [
    {
     "name": "stdout",
     "output_type": "stream",
     "text": [
      "def => abc\n"
     ]
    },
    {
     "data": {
      "text/plain": [
       "\u001b[36mn3\u001b[39m: \u001b[32mY\u001b[39m = ammonite.$sess.cmd50$Helper$Y@e25ad90"
      ]
     },
     "execution_count": 53,
     "metadata": {},
     "output_type": "execute_result"
    }
   ],
   "source": [
    "val n3 = new Y(\"abc\", \"def\")\n",
    "println(n3.greet())"
   ]
  },
  {
   "cell_type": "code",
   "execution_count": 54,
   "metadata": {},
   "outputs": [
    {
     "name": "stdout",
     "output_type": "stream",
     "text": [
      " => abc\n"
     ]
    },
    {
     "data": {
      "text/plain": [
       "\u001b[36mn4\u001b[39m: \u001b[32mY\u001b[39m = ammonite.$sess.cmd50$Helper$Y@42e2d013"
      ]
     },
     "execution_count": 54,
     "metadata": {},
     "output_type": "execute_result"
    }
   ],
   "source": [
    "val n4 = new Y(\"abc\")\n",
    "println(n4.greet())"
   ]
  },
  {
   "cell_type": "code",
   "execution_count": 55,
   "metadata": {},
   "outputs": [
    {
     "data": {
      "text/plain": [
       "\u001b[36mn5\u001b[39m: \u001b[32mX\u001b[39m = ammonite.$sess.cmd50$Helper$X@23ebd669\n",
       "\u001b[36mn6\u001b[39m: \u001b[32mY\u001b[39m = ammonite.$sess.cmd50$Helper$Y@68559561"
      ]
     },
     "execution_count": 55,
     "metadata": {},
     "output_type": "execute_result"
    }
   ],
   "source": [
    "val n5 : X = new X(\"pos\", \"sop\") \n",
    "val n6 : Y = new Y(\"pos\", \"sop\")"
   ]
  },
  {
   "cell_type": "code",
   "execution_count": 56,
   "metadata": {},
   "outputs": [
    {
     "data": {
      "text/plain": [
       "\u001b[36mn7\u001b[39m: \u001b[32mX\u001b[39m = ammonite.$sess.cmd50$Helper$Y@68559561"
      ]
     },
     "execution_count": 56,
     "metadata": {},
     "output_type": "execute_result"
    }
   ],
   "source": [
    "val n7: X = n6"
   ]
  },
  {
   "cell_type": "code",
   "execution_count": 57,
   "metadata": {},
   "outputs": [
    {
     "name": "stdout",
     "output_type": "stream",
     "text": [
      "sop => pos\n"
     ]
    }
   ],
   "source": [
    "println(n7.greet())"
   ]
  },
  {
   "cell_type": "code",
   "execution_count": 58,
   "metadata": {},
   "outputs": [
    {
     "name": "stderr",
     "output_type": "stream",
     "text": [
      "cmd58.sc:1: type mismatch;\n",
      " found   : ammonite.$sess.cmd55.wrapper.cmd50.X\n",
      " required: cmd58.this.cmd50.Y\n",
      "val n8: Y = n5\n",
      "            ^\n",
      "Compilation Failed"
     ]
    }
   ],
   "source": [
    "val n8: Y = n5"
   ]
  },
  {
   "cell_type": "code",
   "execution_count": 66,
   "metadata": {},
   "outputs": [
    {
     "data": {
      "text/plain": [
       "defined \u001b[32mclass\u001b[39m \u001b[36mShape\u001b[39m"
      ]
     },
     "execution_count": 66,
     "metadata": {},
     "output_type": "execute_result"
    }
   ],
   "source": [
    "abstract class Shape {\n",
    "    def area() : String\n",
    "    def perimeter() : String\n",
    "}"
   ]
  },
  {
   "cell_type": "code",
   "execution_count": 67,
   "metadata": {},
   "outputs": [
    {
     "data": {
      "text/plain": [
       "defined \u001b[32mclass\u001b[39m \u001b[36mRectangle\u001b[39m\n",
       "defined \u001b[32mclass\u001b[39m \u001b[36mSquare\u001b[39m"
      ]
     },
     "execution_count": 67,
     "metadata": {},
     "output_type": "execute_result"
    }
   ],
   "source": [
    "class Rectangle extends Shape{\n",
    "    override def area() : String = s\" area of rectangle is l*b\"\n",
    "    override def perimeter(): String = s\" perimeter of rectangle is 2*(l+b)\"\n",
    "}\n",
    "class Square extends Shape{\n",
    "    override def area(): String = s\" area of square is s*s\"\n",
    "    override def perimeter(): String = s\" perimeter of square is 4*s\"\n",
    "}"
   ]
  },
  {
   "cell_type": "code",
   "execution_count": 68,
   "metadata": {},
   "outputs": [
    {
     "data": {
      "text/plain": [
       "\u001b[36mshape1\u001b[39m: \u001b[32mShape\u001b[39m = ammonite.$sess.cmd67$Helper$Rectangle@501d80df"
      ]
     },
     "execution_count": 68,
     "metadata": {},
     "output_type": "execute_result"
    }
   ],
   "source": [
    "val shape1: Shape = new Rectangle()"
   ]
  },
  {
   "cell_type": "code",
   "execution_count": 69,
   "metadata": {},
   "outputs": [
    {
     "name": "stdout",
     "output_type": "stream",
     "text": [
      " area of rectangle is l*b\n",
      " perimeter of rectangle is 2*(l+b)\n"
     ]
    }
   ],
   "source": [
    "println(shape1.area())\n",
    "println(shape1.perimeter())"
   ]
  },
  {
   "cell_type": "code",
   "execution_count": 70,
   "metadata": {},
   "outputs": [
    {
     "data": {
      "text/plain": [
       "\u001b[36mnewShape\u001b[39m: \u001b[32mShape\u001b[39m = ammonite.$sess.cmd70$Helper$$anon$1@4e3ef14e"
      ]
     },
     "execution_count": 70,
     "metadata": {},
     "output_type": "execute_result"
    }
   ],
   "source": [
    "val newShape : Shape = new Shape() {\n",
    "    override def area(): String = \"this new shape has area pi*r*r\"\n",
    "    override def perimeter(): String = \"this new shape has perimeter 2*pi*r \"\n",
    "}"
   ]
  },
  {
   "cell_type": "code",
   "execution_count": 71,
   "metadata": {},
   "outputs": [
    {
     "name": "stdout",
     "output_type": "stream",
     "text": [
      "this new shape has area pi*r*r\n",
      "this new shape has perimeter 2*pi*r \n"
     ]
    }
   ],
   "source": [
    "println(newShape.area())\n",
    "println(newShape.perimeter())"
   ]
  },
  {
   "cell_type": "code",
   "execution_count": 73,
   "metadata": {},
   "outputs": [
    {
     "name": "stdout",
     "output_type": "stream",
     "text": [
      "This new shape has area: π * r * r\n",
      "This new shape has perimeter: 2 * π * r\n"
     ]
    },
    {
     "data": {
      "text/plain": [
       "defined \u001b[32mtrait\u001b[39m \u001b[36mShape\u001b[39m\n",
       "\u001b[36mnewShape\u001b[39m: \u001b[32mShape\u001b[39m = ammonite.$sess.cmd73$Helper$$anon$1@246d6f40"
      ]
     },
     "execution_count": 73,
     "metadata": {},
     "output_type": "execute_result"
    }
   ],
   "source": [
    "trait Shape {\n",
    "  def area(): String  \n",
    "  def perimeter(): String \n",
    "}\n",
    "\n",
    "val newShape: Shape = new Shape {\n",
    "  override def area(): String = \"This new shape has area: π * r * r\"\n",
    "\n",
    "  override def perimeter(): String = \"This new shape has perimeter: 2 * π * r\"\n",
    "}\n",
    "\n",
    "println(newShape.area())     \n",
    "println(newShape.perimeter()) \n"
   ]
  },
  {
   "cell_type": "code",
   "execution_count": 74,
   "metadata": {},
   "outputs": [
    {
     "name": "stdout",
     "output_type": "stream",
     "text": [
      "this is circle area\n",
      "this is circle perimeter\n"
     ]
    },
    {
     "data": {
      "text/plain": [
       "defined \u001b[32mclass\u001b[39m \u001b[36mCircle\u001b[39m\n",
       "\u001b[36mcircle1\u001b[39m: \u001b[32mCircle\u001b[39m = ammonite.$sess.cmd74$Helper$Circle@41a52b4f"
      ]
     },
     "execution_count": 74,
     "metadata": {},
     "output_type": "execute_result"
    }
   ],
   "source": [
    "class Circle extends Shape {\n",
    "    override def area(): String = \"this is circle area\"\n",
    "    override def perimeter(): String = \"this is circle perimeter\"\n",
    "}\n",
    "\n",
    "val circle1 = new Circle()\n",
    "println(circle1.area())\n",
    "println(circle1.perimeter())"
   ]
  },
  {
   "cell_type": "markdown",
   "metadata": {},
   "source": [
    "#### Implicits"
   ]
  },
  {
   "cell_type": "code",
   "execution_count": 76,
   "metadata": {},
   "outputs": [
    {
     "data": {
      "text/plain": [
       "\u001b[32mimport \u001b[39m\u001b[36mscala.language.implicitConversions\u001b[39m"
      ]
     },
     "execution_count": 76,
     "metadata": {},
     "output_type": "execute_result"
    }
   ],
   "source": [
    "import scala.language.implicitConversions"
   ]
  },
  {
   "cell_type": "code",
   "execution_count": 79,
   "metadata": {},
   "outputs": [
    {
     "data": {
      "text/plain": [
       "defined \u001b[32mfunction\u001b[39m \u001b[36mintToString\u001b[39m\n",
       "defined \u001b[32mfunction\u001b[39m \u001b[36mdefineAmount\u001b[39m\n",
       "defined \u001b[32mclass\u001b[39m \u001b[36mAmount\u001b[39m"
      ]
     },
     "execution_count": 79,
     "metadata": {},
     "output_type": "execute_result"
    }
   ],
   "source": [
    "implicit def intToString(x: Int): String = x.toString\n",
    "implicit def defineAmount(amt: Double): Amount = new Amount(amt)\n",
    "\n",
    "case class Amount(amt: Double) {\n",
    "    def finalAmount() : String = s\"the amount passed is $amt\"\n",
    "}\n"
   ]
  },
  {
   "cell_type": "code",
   "execution_count": 80,
   "metadata": {},
   "outputs": [
    {
     "name": "stdout",
     "output_type": "stream",
     "text": [
      "the amount passed is 45.6\n"
     ]
    },
    {
     "data": {
      "text/plain": [
       "\u001b[36ma\u001b[39m: \u001b[32mString\u001b[39m = \u001b[32m\"123\"\u001b[39m\n",
       "\u001b[36mamount\u001b[39m: \u001b[32mAmount\u001b[39m = \u001b[33mAmount\u001b[39m(amt = \u001b[32m45.6\u001b[39m)"
      ]
     },
     "execution_count": 80,
     "metadata": {},
     "output_type": "execute_result"
    }
   ],
   "source": [
    "val a: String = 123\n",
    "val amount : Amount = 45.6\n",
    "\n",
    "println(amount.finalAmount())"
   ]
  },
  {
   "cell_type": "code",
   "execution_count": 81,
   "metadata": {},
   "outputs": [
    {
     "data": {
      "text/plain": [
       "defined \u001b[32mclass\u001b[39m \u001b[36mEnhancedint\u001b[39m"
      ]
     },
     "execution_count": 81,
     "metadata": {},
     "output_type": "execute_result"
    }
   ],
   "source": [
    "implicit class Enhancedint(x: Int) {\n",
    "    def #%(discount: Int): Int = x - (x * discount/100)\n",
    "    def rangeOfInt() : String = {\n",
    "        x match {\n",
    "            case _ if x >= 0 && x <= 1000 => \"0-1000\"\n",
    "            case _ if x > 1000 => \"1000+\"\n",
    "            case _ => \"negative\"\n",
    "        }\n",
    "    }\n",
    "}"
   ]
  },
  {
   "cell_type": "code",
   "execution_count": 84,
   "metadata": {},
   "outputs": [
    {
     "name": "stdout",
     "output_type": "stream",
     "text": [
      "660\n"
     ]
    },
    {
     "data": {
      "text/plain": [
       "\u001b[36mdiscounteAmount\u001b[39m: \u001b[32mInt\u001b[39m = \u001b[32m660\u001b[39m"
      ]
     },
     "execution_count": 84,
     "metadata": {},
     "output_type": "execute_result"
    }
   ],
   "source": [
    "val discounteAmount = 1200 #% 45\n",
    "println(discounteAmount)"
   ]
  },
  {
   "cell_type": "code",
   "execution_count": 88,
   "metadata": {},
   "outputs": [
    {
     "name": "stdout",
     "output_type": "stream",
     "text": [
      "1000+\n"
     ]
    }
   ],
   "source": [
    "println(1223.rangeOfInt())"
   ]
  }
 ],
 "metadata": {
  "kernelspec": {
   "display_name": "Scala",
   "language": "scala",
   "name": "scala"
  },
  "language_info": {
   "codemirror_mode": "text/x-scala",
   "file_extension": ".sc",
   "mimetype": "text/x-scala",
   "name": "scala",
   "nbconvert_exporter": "script",
   "version": "2.13.14"
  }
 },
 "nbformat": 4,
 "nbformat_minor": 2
}

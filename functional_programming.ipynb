{
 "cells": [
  {
   "cell_type": "markdown",
   "metadata": {},
   "source": [
    "## Functional Proramming\n"
   ]
  },
  {
   "cell_type": "markdown",
   "metadata": {},
   "source": [
    "### Function Definition"
   ]
  },
  {
   "cell_type": "code",
   "execution_count": 8,
   "metadata": {},
   "outputs": [
    {
     "data": {
      "text/plain": [
       "defined \u001b[32mfunction\u001b[39m \u001b[36mgreet\u001b[39m"
      ]
     },
     "execution_count": 8,
     "metadata": {},
     "output_type": "execute_result"
    }
   ],
   "source": [
    "def greet(name: String) : String = {\n",
    "    s\"Hey $name\";\n",
    "}"
   ]
  },
  {
   "cell_type": "markdown",
   "metadata": {},
   "source": [
    "### assigning the function to a variable"
   ]
  },
  {
   "cell_type": "code",
   "execution_count": 41,
   "metadata": {},
   "outputs": [
    {
     "name": "stdout",
     "output_type": "stream",
     "text": [
      "Hey Tej\n"
     ]
    },
    {
     "data": {
      "text/plain": [
       "\u001b[36mgreeting\u001b[39m: \u001b[32mString\u001b[39m = \u001b[32m\"Hey Tej\"\u001b[39m"
      ]
     },
     "execution_count": 41,
     "metadata": {},
     "output_type": "execute_result"
    }
   ],
   "source": [
    "val greeting = greet(\"Tej\");\n",
    "println(greeting)"
   ]
  },
  {
   "cell_type": "markdown",
   "metadata": {},
   "source": [
    "### Function Definition without brackets for 1 expression"
   ]
  },
  {
   "cell_type": "code",
   "execution_count": 14,
   "metadata": {},
   "outputs": [
    {
     "name": "stdout",
     "output_type": "stream",
     "text": [
      "5"
     ]
    },
    {
     "data": {
      "text/plain": [
       "defined \u001b[32mfunction\u001b[39m \u001b[36msum\u001b[39m"
      ]
     },
     "execution_count": 14,
     "metadata": {},
     "output_type": "execute_result"
    }
   ],
   "source": [
    "def sum(a: Int, b: Int):Int = a + b\n",
    "print(sum(2, 3))"
   ]
  },
  {
   "cell_type": "markdown",
   "metadata": {},
   "source": [
    "### Anonymous Functions "
   ]
  },
  {
   "cell_type": "code",
   "execution_count": 16,
   "metadata": {},
   "outputs": [
    {
     "name": "stdout",
     "output_type": "stream",
     "text": [
      "5"
     ]
    },
    {
     "data": {
      "text/plain": [
       "\u001b[36msum\u001b[39m: (\u001b[32mInt\u001b[39m, \u001b[32mInt\u001b[39m) => \u001b[32mInt\u001b[39m = ammonite.$sess.cmd16$Helper$$Lambda/0x00007f0001aac6f8@7eb936dc"
      ]
     },
     "execution_count": 16,
     "metadata": {},
     "output_type": "execute_result"
    }
   ],
   "source": [
    "val sum  = (a : Int, b : Int) => a + b //assigning the anonymous function to variable\n",
    "print(sum(2, 3))"
   ]
  },
  {
   "cell_type": "code",
   "execution_count": 25,
   "metadata": {},
   "outputs": [
    {
     "data": {
      "text/plain": [
       "\u001b[36mcube\u001b[39m: (\u001b[32mInt\u001b[39m, \u001b[32mInt\u001b[39m) => \u001b[32mDouble\u001b[39m = ammonite.$sess.cmd25$Helper$$Lambda/0x00007f0001ac2000@c39ffd6"
      ]
     },
     "execution_count": 25,
     "metadata": {},
     "output_type": "execute_result"
    }
   ],
   "source": [
    "val cube: (Int, Int) => Double = (x, y) => scala.math.pow(x+y, 3)"
   ]
  },
  {
   "cell_type": "code",
   "execution_count": 26,
   "metadata": {},
   "outputs": [
    {
     "name": "stdout",
     "output_type": "stream",
     "text": [
      "64.0"
     ]
    }
   ],
   "source": [
    "print(cube(2, 2))"
   ]
  },
  {
   "cell_type": "code",
   "execution_count": 27,
   "metadata": {},
   "outputs": [
    {
     "name": "stdout",
     "output_type": "stream",
     "text": [
      "process p_1234 has to be processed"
     ]
    },
    {
     "data": {
      "text/plain": [
       "defined \u001b[32mfunction\u001b[39m \u001b[36mprocess\u001b[39m\n",
       "\u001b[36mp\u001b[39m: \u001b[32mString\u001b[39m => \u001b[32mString\u001b[39m = ammonite.$sess.cmd27$Helper$$Lambda/0x00007f0001ac34f8@25f158c9"
      ]
     },
     "execution_count": 27,
     "metadata": {},
     "output_type": "execute_result"
    }
   ],
   "source": [
    "def process(x: String): String = s\"process $x has to be processed\"\n",
    "\n",
    "val p = process _\n",
    "\n",
    "print(p(\"p_1234\"))"
   ]
  },
  {
   "cell_type": "code",
   "execution_count": 28,
   "metadata": {},
   "outputs": [
    {
     "name": "stdout",
     "output_type": "stream",
     "text": [
      "process p_234 has to be processed"
     ]
    },
    {
     "data": {
      "text/plain": [
       "\u001b[36mcopied\u001b[39m: \u001b[32mString\u001b[39m => \u001b[32mString\u001b[39m = ammonite.$sess.cmd28$Helper$$Lambda/0x00007f0001ae2628@4b8b581c"
      ]
     },
     "execution_count": 28,
     "metadata": {},
     "output_type": "execute_result"
    }
   ],
   "source": [
    "val copied : String => String = process\n",
    "\n",
    "print(copied(\"p_234\"))"
   ]
  },
  {
   "cell_type": "code",
   "execution_count": 29,
   "metadata": {},
   "outputs": [
    {
     "name": "stdout",
     "output_type": "stream",
     "text": [
      "class ammonite.$sess.cmd27$Helper$$Lambda/0x00007f0001ac34f8\n",
      "class ammonite.$sess.cmd28$Helper$$Lambda/0x00007f0001ae2628\n"
     ]
    }
   ],
   "source": [
    "println(p.getClass)\n",
    "println(copied.getClass)"
   ]
  },
  {
   "cell_type": "markdown",
   "metadata": {},
   "source": [
    "### passing function as parameters (Callback Functions/ Higher Order Functions)"
   ]
  },
  {
   "cell_type": "code",
   "execution_count": 38,
   "metadata": {},
   "outputs": [
    {
     "name": "stdout",
     "output_type": "stream",
     "text": [
      "Hi 1 guys\n",
      "Hi 2 guys\n",
      "Hi 3 guys\n",
      "Hi 4 guys\n",
      "Hi 5 guys\n",
      "Done\n"
     ]
    },
    {
     "data": {
      "text/plain": [
       "defined \u001b[32mfunction\u001b[39m \u001b[36mexample\u001b[39m\n",
       "defined \u001b[32mfunction\u001b[39m \u001b[36mpassableMethod\u001b[39m"
      ]
     },
     "execution_count": 38,
     "metadata": {},
     "output_type": "execute_result"
    }
   ],
   "source": [
    "def example(times: Int, method : (String) => Unit) : Unit = {\n",
    "    for (i <- 1 to times) {\n",
    "        method(\"Hi \" + i)\n",
    "    }\n",
    "    println(\"Done\")\n",
    "}\n",
    "def passableMethod(s: String) : Unit = println(s\"$s guys\")\n",
    "example(5, passableMethod)"
   ]
  },
  {
   "cell_type": "code",
   "execution_count": 40,
   "metadata": {},
   "outputs": [
    {
     "name": "stdout",
     "output_type": "stream",
     "text": [
      "Hi 1 is running\n",
      "Hi 2 is running\n",
      "Hi 3 is running\n",
      "Hi 4 is running\n",
      "Hi 5 is running\n",
      "Done\n"
     ]
    }
   ],
   "source": [
    "example(5, (x) => println(s\"$x is running\"));"
   ]
  },
  {
   "cell_type": "markdown",
   "metadata": {},
   "source": [
    "### nested functions"
   ]
  },
  {
   "cell_type": "code",
   "execution_count": 43,
   "metadata": {},
   "outputs": [
    {
     "name": "stdout",
     "output_type": "stream",
     "text": [
      "15\n"
     ]
    },
    {
     "data": {
      "text/plain": [
       "defined \u001b[32mfunction\u001b[39m \u001b[36mmultiplier\u001b[39m\n",
       "\u001b[36mmultiplierof3\u001b[39m: \u001b[32mInt\u001b[39m => \u001b[32mInt\u001b[39m = ammonite.$sess.cmd43$Helper$$Lambda/0x00007f0001aff150@5f321ee1"
      ]
     },
     "execution_count": 43,
     "metadata": {},
     "output_type": "execute_result"
    }
   ],
   "source": [
    "def multiplier(factor: Int): Int => Int = {\n",
    "    def multipleof3(x : Int) : Int = {\n",
    "        x * factor\n",
    "    }\n",
    "    return multipleof3\n",
    "}\n",
    "\n",
    "val multiplierof3 = multiplier(3)  // returns a function that multiplies by 3\n",
    "println(multiplierof3(5))          // Output: 15\n"
   ]
  },
  {
   "cell_type": "markdown",
   "metadata": {},
   "source": [
    "### nested function with anonymous funtion"
   ]
  },
  {
   "cell_type": "code",
   "execution_count": 47,
   "metadata": {},
   "outputs": [
    {
     "name": "stdout",
     "output_type": "stream",
     "text": [
      "15\n"
     ]
    },
    {
     "data": {
      "text/plain": [
       "\u001b[36mmultiplierof3\u001b[39m: \u001b[32mInt\u001b[39m => \u001b[32mInt\u001b[39m = ammonite.$sess.cmd47$Helper$$Lambda/0x00007f0001b03118@559b1f59"
      ]
     },
     "execution_count": 47,
     "metadata": {},
     "output_type": "execute_result"
    }
   ],
   "source": [
    "def multiplier(factor: Int): Int => Int = x => x * factor;\n",
    "\n",
    "val multiplierof3 = multiplier(3)  // returns a function that multiplies by 3\n",
    "println(multiplierof3(5))          // Output: 15"
   ]
  },
  {
   "cell_type": "code",
   "execution_count": 1,
   "metadata": {},
   "outputs": [
    {
     "data": {
      "text/plain": [
       "defined \u001b[32mfunction\u001b[39m \u001b[36mfilterIt\u001b[39m"
      ]
     },
     "execution_count": 1,
     "metadata": {},
     "output_type": "execute_result"
    }
   ],
   "source": [
    "def filterIt(elements: Array[Int], filterCondition: Int => Boolean) : Array[Int] = {\n",
    "    var count: Int = 0\n",
    "    var a: Int = 0\n",
    "    for(data <- elements) {\n",
    "        if(filterCondition(data)) {\n",
    "            count+=1;\n",
    "        }\n",
    "    }\n",
    "    val arr = Array.fill(count)(0)\n",
    "    for(data <- elements) {\n",
    "        if(filterCondition(data)) {\n",
    "            arr(a) = data\n",
    "            a+=1\n",
    "        }\n",
    "    }\n",
    "    return arr\n",
    "}"
   ]
  },
  {
   "cell_type": "code",
   "execution_count": 3,
   "metadata": {},
   "outputs": [
    {
     "data": {
      "text/plain": [
       "\u001b[36mfilteredArray\u001b[39m: \u001b[32mArray\u001b[39m[\u001b[32mInt\u001b[39m] = \u001b[33mArray\u001b[39m(\u001b[32m3\u001b[39m, \u001b[32m6\u001b[39m)"
      ]
     },
     "execution_count": 3,
     "metadata": {},
     "output_type": "execute_result"
    }
   ],
   "source": [
    "val filteredArray = filterIt(Array(1, 2, 3, 4, 5, 6, 7, 8), x => (x%3 == 0))"
   ]
  }
 ],
 "metadata": {
  "kernelspec": {
   "display_name": "Scala",
   "language": "scala",
   "name": "scala"
  },
  "language_info": {
   "codemirror_mode": "text/x-scala",
   "file_extension": ".sc",
   "mimetype": "text/x-scala",
   "name": "scala",
   "nbconvert_exporter": "script",
   "version": "2.13.14"
  }
 },
 "nbformat": 4,
 "nbformat_minor": 2
}

{
 "cells": [
  {
   "cell_type": "code",
   "execution_count": 6,
   "metadata": {},
   "outputs": [
    {
     "name": "stdout",
     "output_type": "stream",
     "text": [
      "8"
     ]
    },
    {
     "data": {
      "text/plain": [
       "defined \u001b[32mfunction\u001b[39m \u001b[36mgiveMeLogic\u001b[39m"
      ]
     },
     "execution_count": 6,
     "metadata": {},
     "output_type": "execute_result"
    }
   ],
   "source": [
    "def giveMeLogic(): (Int) => (Int) = {\n",
    "    def cube(value : Int) : Int  =  value*value*value\n",
    "    cube\n",
    "}\n",
    "\n",
    "print(giveMeLogic()(2))"
   ]
  },
  {
   "cell_type": "code",
   "execution_count": 10,
   "metadata": {},
   "outputs": [
    {
     "name": "stdout",
     "output_type": "stream",
     "text": [
      "8000"
     ]
    },
    {
     "data": {
      "text/plain": [
       "defined \u001b[32mfunction\u001b[39m \u001b[36manotherFunc\u001b[39m"
      ]
     },
     "execution_count": 10,
     "metadata": {},
     "output_type": "execute_result"
    },
    {
     "ename": "",
     "evalue": "",
     "output_type": "error",
     "traceback": [
      "\u001b[1;31mThe Kernel crashed while executing code in the current cell or a previous cell. \n",
      "\u001b[1;31mPlease review the code in the cell(s) to identify a possible cause of the failure. \n",
      "\u001b[1;31mClick <a href='https://aka.ms/vscodeJupyterKernelCrash'>here</a> for more info. \n",
      "\u001b[1;31mView Jupyter <a href='command:jupyter.viewOutput'>log</a> for further details."
     ]
    }
   ],
   "source": [
    "def anotherFunc() : () => (Int) => (Int) = giveMeLogic\n",
    "\n",
    "print(anotherFunc()()(20))"
   ]
  },
  {
   "cell_type": "code",
   "execution_count": 1,
   "metadata": {},
   "outputs": [
    {
     "name": "stdout",
     "output_type": "stream",
     "text": [
      "105"
     ]
    },
    {
     "data": {
      "text/plain": [
       "defined \u001b[32mfunction\u001b[39m \u001b[36mf1\u001b[39m\n",
       "defined \u001b[32mfunction\u001b[39m \u001b[36mf2\u001b[39m"
      ]
     },
     "execution_count": 1,
     "metadata": {},
     "output_type": "execute_result"
    }
   ],
   "source": [
    "def f1(x : Int) : Int = x+100\n",
    "def f2(x : Int) : Int = f1(x)\n",
    "print(f2(5))"
   ]
  },
  {
   "cell_type": "code",
   "execution_count": 10,
   "metadata": {},
   "outputs": [
    {
     "name": "stdout",
     "output_type": "stream",
     "text": [
      "7\n",
      "-3\n",
      "10\n",
      "-1\n"
     ]
    },
    {
     "data": {
      "text/plain": [
       "defined \u001b[32mfunction\u001b[39m \u001b[36mselectFunc\u001b[39m"
      ]
     },
     "execution_count": 10,
     "metadata": {},
     "output_type": "execute_result"
    },
    {
     "ename": "",
     "evalue": "",
     "output_type": "error",
     "traceback": [
      "\u001b[1;31mThe Kernel crashed while executing code in the current cell or a previous cell. \n",
      "\u001b[1;31mPlease review the code in the cell(s) to identify a possible cause of the failure. \n",
      "\u001b[1;31mClick <a href='https://aka.ms/vscodeJupyterKernelCrash'>here</a> for more info. \n",
      "\u001b[1;31mView Jupyter <a href='command:jupyter.viewOutput'>log</a> for further details."
     ]
    }
   ],
   "source": [
    "def selectFunc(ops: String): (Int, Int)=>Int = {\n",
    "    ops match {\n",
    "        case \"add\" => (a, b) => a+b\n",
    "        case \"sub\" => (a, b) => a-b\n",
    "        case \"mul\" => (a, b) => a*b\n",
    "        case _ => (a, b) => -1\n",
    "    }\n",
    "}\n",
    "\n",
    "println(selectFunc(\"add\")(2, 5))\n",
    "println(selectFunc(\"sub\")(2, 5))\n",
    "println(selectFunc(\"mul\")(2, 5))\n",
    "println(selectFunc(\"div\")(2, 5))"
   ]
  },
  {
   "cell_type": "code",
   "execution_count": 9,
   "metadata": {},
   "outputs": [
    {
     "name": "stdout",
     "output_type": "stream",
     "text": [
      "9.0\n",
      "27.0\n",
      "1.0\n",
      "3.0\n"
     ]
    },
    {
     "data": {
      "text/plain": [
       "defined \u001b[32mfunction\u001b[39m \u001b[36mselectOperation\u001b[39m"
      ]
     },
     "execution_count": 9,
     "metadata": {},
     "output_type": "execute_result"
    }
   ],
   "source": [
    "def selectOperation(op: String) : Int => Double = {\n",
    "    op match {\n",
    "        case \"square\" => x => x*x\n",
    "        case \"cube\" => x => x*x*x\n",
    "        case \"root\" => x => scala.math.pow(x, 1/2)\n",
    "        case _ => x=> x\n",
    "    }\n",
    "}\n",
    "\n",
    "println(selectOperation(\"square\")(3))\n",
    "println(selectOperation(\"cube\")(3))\n",
    "println(selectOperation(\"root\")(3))\n",
    "println(selectOperation(\"add\")(3))\n"
   ]
  },
  {
   "cell_type": "markdown",
   "metadata": {},
   "source": [
    "### Closures"
   ]
  },
  {
   "cell_type": "code",
   "execution_count": 3,
   "metadata": {},
   "outputs": [
    {
     "name": "stdout",
     "output_type": "stream",
     "text": [
      "The value of outerVar is 15\n",
      "The value of outerVar is 35\n",
      "The value of outerVar is 65\n"
     ]
    },
    {
     "data": {
      "text/plain": [
       "defined \u001b[32mfunction\u001b[39m \u001b[36mwrapper\u001b[39m"
      ]
     },
     "execution_count": 3,
     "metadata": {},
     "output_type": "execute_result"
    }
   ],
   "source": [
    "def wrapper(data: Int) : Unit = {\n",
    "    var outerVar = data\n",
    "    def innerWrapper(x: Int) : String = {\n",
    "        outerVar = outerVar + x\n",
    "        s\"The value of outerVar is $outerVar\"\n",
    "    }\n",
    "    println(innerWrapper(10))\n",
    "    println(innerWrapper(20))\n",
    "    println(innerWrapper(30))\n",
    "}\n",
    "\n",
    "wrapper(5)"
   ]
  },
  {
   "cell_type": "code",
   "execution_count": 15,
   "metadata": {},
   "outputs": [
    {
     "name": "stdout",
     "output_type": "stream",
     "text": [
      "The value of outerVar is 15\n",
      "The value of outerVar is 25\n"
     ]
    },
    {
     "data": {
      "text/plain": [
       "defined \u001b[32mfunction\u001b[39m \u001b[36mwrapper\u001b[39m\n",
       "\u001b[36mwrapperfunc\u001b[39m: \u001b[32mInt\u001b[39m => \u001b[32mString\u001b[39m = ammonite.$sess.cmd15$Helper$$Lambda/0x00000fff01a6d5e0@9b4f043"
      ]
     },
     "execution_count": 15,
     "metadata": {},
     "output_type": "execute_result"
    }
   ],
   "source": [
    "def wrapper(data: Int) : Int => String = {\n",
    "    var outerVar = data\n",
    "    def innerWrapper(x: Int) : String = {\n",
    "        outerVar += x\n",
    "        s\"The value of outerVar is $outerVar\"\n",
    "    }\n",
    "    innerWrapper\n",
    "}\n",
    "\n",
    "val wrapperfunc = wrapper(5)\n",
    "println(wrapperfunc(10))\n",
    "println(wrapperfunc(10))"
   ]
  },
  {
   "cell_type": "code",
   "execution_count": 16,
   "metadata": {},
   "outputs": [
    {
     "name": "stdout",
     "output_type": "stream",
     "text": [
      "The value of outerVar is 15\n",
      "The value of outerVar is 15\n"
     ]
    },
    {
     "ename": "",
     "evalue": "",
     "output_type": "error",
     "traceback": [
      "\u001b[1;31mThe Kernel crashed while executing code in the current cell or a previous cell. \n",
      "\u001b[1;31mPlease review the code in the cell(s) to identify a possible cause of the failure. \n",
      "\u001b[1;31mClick <a href='https://aka.ms/vscodeJupyterKernelCrash'>here</a> for more info. \n",
      "\u001b[1;31mView Jupyter <a href='command:jupyter.viewOutput'>log</a> for further details."
     ]
    }
   ],
   "source": [
    "println(wrapper(5)(10))\n",
    "println(wrapper(5)(10))"
   ]
  },
  {
   "cell_type": "code",
   "execution_count": 4,
   "metadata": {},
   "outputs": [
    {
     "name": "stdout",
     "output_type": "stream",
     "text": [
      "the value of outerVar is 3\n",
      "the value of outerVar is 3\n"
     ]
    },
    {
     "data": {
      "text/plain": [
       "defined \u001b[32mfunction\u001b[39m \u001b[36mwrapper2\u001b[39m\n",
       "\u001b[36my\u001b[39m: \u001b[32mInt\u001b[39m => \u001b[32mString\u001b[39m = ammonite.$sess.cmd4$Helper$$Lambda/0x00002000018c4628@36182fba"
      ]
     },
     "execution_count": 4,
     "metadata": {},
     "output_type": "execute_result"
    }
   ],
   "source": [
    "def wrapper2(data: Int) : Int => String = {\n",
    "    var outerVar = data\n",
    "    (x: Int) => s\"the value of outerVar is $outerVar\"\n",
    "}\n",
    "val y = wrapper2(3)\n",
    "println(y(4))\n",
    "println(y(5))"
   ]
  },
  {
   "cell_type": "code",
   "execution_count": 8,
   "metadata": {},
   "outputs": [
    {
     "name": "stdout",
     "output_type": "stream",
     "text": [
      " x is 50\n",
      "hi value is 20 \n"
     ]
    },
    {
     "data": {
      "text/plain": [
       "defined \u001b[32mfunction\u001b[39m \u001b[36mfun1\u001b[39m\n",
       "defined \u001b[32mfunction\u001b[39m \u001b[36mfun2\u001b[39m"
      ]
     },
     "execution_count": 8,
     "metadata": {},
     "output_type": "execute_result"
    }
   ],
   "source": [
    "def fun1(x: Int, method: String => Unit) : Unit = {\n",
    "    println(s\" x is $x\")\n",
    "}\n",
    "\n",
    "def fun2(str: String) : Unit = {\n",
    "    val value = 20\n",
    "    println(str + s\" value is $value \")\n",
    "}\n",
    "\n",
    "\n",
    "fun1(50, fun2)\n",
    "fun2(\"hi\")\n"
   ]
  },
  {
   "cell_type": "code",
   "execution_count": 17,
   "metadata": {},
   "outputs": [
    {
     "name": "stdout",
     "output_type": "stream",
     "text": [
      " x is 50\n",
      "hello the value is 20\n"
     ]
    },
    {
     "data": {
      "text/plain": [
       "defined \u001b[32mfunction\u001b[39m \u001b[36mfun1\u001b[39m\n",
       "defined \u001b[32mfunction\u001b[39m \u001b[36mfun2\u001b[39m"
      ]
     },
     "execution_count": 17,
     "metadata": {},
     "output_type": "execute_result"
    },
    {
     "ename": "",
     "evalue": "",
     "output_type": "error",
     "traceback": [
      "\u001b[1;31mThe Kernel crashed while executing code in the current cell or a previous cell. \n",
      "\u001b[1;31mPlease review the code in the cell(s) to identify a possible cause of the failure. \n",
      "\u001b[1;31mClick <a href='https://aka.ms/vscodeJupyterKernelCrash'>here</a> for more info. \n",
      "\u001b[1;31mView Jupyter <a href='command:jupyter.viewOutput'>log</a> for further details."
     ]
    }
   ],
   "source": [
    "def fun1(x: Int, method: String => Unit) : Unit = {\n",
    "    println(s\" x is $x\")\n",
    "    method(\"hello\")\n",
    "}\n",
    "\n",
    "def fun2(str: String) : Unit = {\n",
    "    val value = 20\n",
    "    fun1(50, str => println(s\"$str the value is $value\"))\n",
    "}\n",
    "\n",
    "fun2(\"hi\")\n"
   ]
  },
  {
   "cell_type": "code",
   "execution_count": 9,
   "metadata": {},
   "outputs": [
    {
     "name": "stdout",
     "output_type": "stream",
     "text": [
      "15\n",
      "info: Data 15, n: India, p: Hi\n"
     ]
    },
    {
     "data": {
      "text/plain": [
       "defined \u001b[32mfunction\u001b[39m \u001b[36mfunction1\u001b[39m\n",
       "defined \u001b[32mfunction\u001b[39m \u001b[36mfunction2\u001b[39m"
      ]
     },
     "execution_count": 9,
     "metadata": {},
     "output_type": "execute_result"
    }
   ],
   "source": [
    "def function1(x: Int, fun : String => Unit) : Unit = {\n",
    "    println(x)\n",
    "    fun(\"Data \"+ x)\n",
    "}\n",
    "def function2(p: String) : Unit = {\n",
    "    val n = \"India\"\n",
    "    function1(15, (info) => {\n",
    "        println(s\"info: $info, n: $n, p: $p\")\n",
    "    })\n",
    "}\n",
    "\n",
    "function2(\"Hi\")"
   ]
  },
  {
   "cell_type": "code",
   "execution_count": 4,
   "metadata": {},
   "outputs": [
    {
     "name": "stdout",
     "output_type": "stream",
     "text": [
      "24\n"
     ]
    },
    {
     "data": {
      "text/plain": [
       "\u001b[36mf\u001b[39m: \u001b[32mInt\u001b[39m => \u001b[32mInt\u001b[39m = ammonite.$sess.cmd4$Helper$$Lambda/0x000001fc01945b20@2d36e4d3\n",
       "\u001b[36mg\u001b[39m: \u001b[32mInt\u001b[39m => \u001b[32mInt\u001b[39m = ammonite.$sess.cmd4$Helper$$Lambda/0x000001fc01945f08@13f9396b\n",
       "\u001b[36mh\u001b[39m: \u001b[32mInt\u001b[39m => \u001b[32mInt\u001b[39m = scala.Function1$$Lambda/0x000001fc01943750@5f7a72f"
      ]
     },
     "execution_count": 4,
     "metadata": {},
     "output_type": "execute_result"
    }
   ],
   "source": [
    "val f: Int => Int = x => x+2\n",
    "val g: Int => Int = x => x*4\n",
    "\n",
    "val h = f andThen g\n",
    "println(h(4)) // (4 + 2) * 4 = 18\n"
   ]
  },
  {
   "cell_type": "code",
   "execution_count": 15,
   "metadata": {},
   "outputs": [
    {
     "name": "stdout",
     "output_type": "stream",
     "text": [
      "b has (a has (Hi and Hello) as parameters) as parameter\n"
     ]
    },
    {
     "data": {
      "text/plain": [
       "\u001b[36ma\u001b[39m: (\u001b[32mString\u001b[39m, \u001b[32mString\u001b[39m) => \u001b[32mString\u001b[39m = ammonite.$sess.cmd15$Helper$$Lambda/0x000001fc01ab0000@295878bb\n",
       "\u001b[36mb\u001b[39m: \u001b[32mString\u001b[39m => \u001b[32mString\u001b[39m = ammonite.$sess.cmd15$Helper$$Lambda/0x000001fc01ab05a8@a33e0bc\n",
       "\u001b[36mac\u001b[39m: \u001b[32mString\u001b[39m => \u001b[32mString\u001b[39m = ammonite.$sess.cmd15$Helper$$Lambda/0x000001fc01ab0970@121fc203\n",
       "\u001b[36mabc\u001b[39m: \u001b[32mString\u001b[39m => \u001b[32mString\u001b[39m = scala.Function1$$Lambda/0x000001fc01943750@2bcb5fea"
      ]
     },
     "execution_count": 15,
     "metadata": {},
     "output_type": "execute_result"
    }
   ],
   "source": [
    "val a: (String, String) => String = (x, y) => s\"a has ($x and $y) as parameters\"\n",
    "val b: String => String = x => s\"b has ($x) as parameter\"\n",
    "\n",
    "val ac = a(\"Hi\", _:String)\n",
    "\n",
    "val abc = ac andThen b\n",
    "\n",
    "println(abc(\"Hello\"))"
   ]
  },
  {
   "cell_type": "code",
   "execution_count": 17,
   "metadata": {},
   "outputs": [
    {
     "data": {
      "text/plain": [
       "\u001b[36mc\u001b[39m: \u001b[32mString\u001b[39m => \u001b[32mString\u001b[39m => \u001b[32mString\u001b[39m = ammonite.$sess.cmd17$Helper$$Lambda/0x000001fc01ab3660@25a50a19\n",
       "\u001b[36md\u001b[39m: \u001b[32mString\u001b[39m => \u001b[32mString\u001b[39m = ammonite.$sess.cmd17$Helper$$Lambda/0x000001fc01ab3a28@46cb5953"
      ]
     },
     "execution_count": 17,
     "metadata": {},
     "output_type": "execute_result"
    }
   ],
   "source": [
    "val c: String => String => String = x => y => s\"c has ($x and $y) as parameters\"\n",
    "val d: String => String = x => s\"d has ($x) as parameter\"\n"
   ]
  },
  {
   "cell_type": "code",
   "execution_count": 18,
   "metadata": {},
   "outputs": [
    {
     "name": "stdout",
     "output_type": "stream",
     "text": [
      "d has (c has (Hey and Hello) as parameters) as parameter\n"
     ]
    },
    {
     "data": {
      "text/plain": [
       "\u001b[36mcd\u001b[39m: \u001b[32mString\u001b[39m => \u001b[32mString\u001b[39m = scala.Function1$$Lambda/0x000001fc01943750@26d4a4a8"
      ]
     },
     "execution_count": 18,
     "metadata": {},
     "output_type": "execute_result"
    }
   ],
   "source": [
    "val cd = c(\"Hey\") andThen d\n",
    "println(cd(\"Hello\"))"
   ]
  },
  {
   "cell_type": "code",
   "execution_count": null,
   "metadata": {},
   "outputs": [],
   "source": []
  },
  {
   "cell_type": "code",
   "execution_count": null,
   "metadata": {},
   "outputs": [],
   "source": []
  },
  {
   "cell_type": "code",
   "execution_count": 20,
   "metadata": {},
   "outputs": [
    {
     "data": {
      "text/plain": [
       "\u001b[36maddTopping\u001b[39m: \u001b[32mString\u001b[39m => \u001b[32mUnit\u001b[39m = ammonite.$sess.cmd20$Helper$$Lambda/0x000001fc01abad58@7c1d943f\n",
       "\u001b[36mbake\u001b[39m: (\u001b[32mString\u001b[39m, \u001b[32mString\u001b[39m) => \u001b[32mString\u001b[39m = ammonite.$sess.cmd20$Helper$$Lambda/0x000001fc01abb120@3323e66\n",
       "\u001b[36mcakeBake\u001b[39m: \u001b[32mString\u001b[39m => \u001b[32mString\u001b[39m = ammonite.$sess.cmd20$Helper$$Lambda/0x000001fc01abb6c8@41365709\n",
       "\u001b[36mpizzaBake\u001b[39m: \u001b[32mString\u001b[39m => \u001b[32mString\u001b[39m = ammonite.$sess.cmd20$Helper$$Lambda/0x000001fc01abba98@33b668c1"
      ]
     },
     "execution_count": 20,
     "metadata": {},
     "output_type": "execute_result"
    }
   ],
   "source": [
    "val addTopping = (topping: String) => {\n",
    "    println(s\"Added $topping topping\")\n",
    "}\n",
    "val bake = (ftype: String, topping: String) => {\n",
    "    println(s\"Baked $ftype and ready for $topping topping\")\n",
    "    topping\n",
    "}\n",
    "\n",
    "val cakeBake = bake(\"cake\", _:String)\n",
    "val pizzaBake = bake(\"pizza\", _:String)\n",
    "\n"
   ]
  },
  {
   "cell_type": "code",
   "execution_count": 22,
   "metadata": {},
   "outputs": [
    {
     "name": "stdout",
     "output_type": "stream",
     "text": [
      "Baked Cake and ready for chocolate topping\n",
      "Added chocolate topping\n",
      "Baked cake and ready for cherry topping\n",
      "Added cherry topping\n",
      "Baked pizza and ready for cheese topping\n",
      "Added cheese topping\n"
     ]
    },
    {
     "data": {
      "text/plain": [
       "\u001b[36mcakeBakeAndTopping\u001b[39m: \u001b[32mString\u001b[39m => \u001b[32mUnit\u001b[39m = scala.Function1$$Lambda/0x000001fc01943750@69ed3729\n",
       "\u001b[36mpizzaBakeAndTopping\u001b[39m: \u001b[32mString\u001b[39m => \u001b[32mUnit\u001b[39m = scala.Function1$$Lambda/0x000001fc01943750@37a970dd\n",
       "\u001b[36mbakeAndTopping\u001b[39m: ((\u001b[32mString\u001b[39m, \u001b[32mString\u001b[39m)) => \u001b[32mUnit\u001b[39m = scala.Function1$$Lambda/0x000001fc01943750@2075b04e"
      ]
     },
     "execution_count": 22,
     "metadata": {},
     "output_type": "execute_result"
    }
   ],
   "source": [
    "val cakeBakeAndTopping = cakeBake andThen addTopping\n",
    "val pizzaBakeAndTopping = pizzaBake andThen addTopping\n",
    "val bakeAndTopping = bake.tupled andThen addTopping\n",
    "\n",
    "bakeAndTopping(\"Cake\", \"chocolate\")\n",
    "cakeBakeAndTopping(\"cherry\")\n",
    "pizzaBakeAndTopping(\"cheese\")"
   ]
  },
  {
   "cell_type": "code",
   "execution_count": null,
   "metadata": {},
   "outputs": [],
   "source": []
  }
 ],
 "metadata": {
  "kernelspec": {
   "display_name": "Scala",
   "language": "scala",
   "name": "scala"
  },
  "language_info": {
   "codemirror_mode": "text/x-scala",
   "file_extension": ".sc",
   "mimetype": "text/x-scala",
   "name": "scala",
   "nbconvert_exporter": "script",
   "version": "2.13.14"
  }
 },
 "nbformat": 4,
 "nbformat_minor": 2
}

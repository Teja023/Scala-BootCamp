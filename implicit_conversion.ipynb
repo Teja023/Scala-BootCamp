{
 "cells": [
  {
   "cell_type": "markdown",
   "metadata": {},
   "source": [
    "### Implicit Conversion\n"
   ]
  },
  {
   "cell_type": "code",
   "execution_count": 15,
   "metadata": {},
   "outputs": [
    {
     "data": {
      "text/plain": [
       "defined \u001b[32mclass\u001b[39m \u001b[36mStudent\u001b[39m"
      ]
     },
     "execution_count": 15,
     "metadata": {},
     "output_type": "execute_result"
    }
   ],
   "source": [
    "case class Student(\n",
    "    val sno: Int,\n",
    "    val name: String,\n",
    "    val score: Int\n",
    ")"
   ]
  },
  {
   "cell_type": "code",
   "execution_count": 16,
   "metadata": {},
   "outputs": [
    {
     "data": {
      "text/plain": [
       "\u001b[32mimport \u001b[39m\u001b[36mscala.collection.mutable.ListBuffer\u001b[39m\n",
       "\u001b[36mstudent_list\u001b[39m: \u001b[32mListBuffer\u001b[39m[\u001b[32mStudent\u001b[39m] = \u001b[33mListBuffer\u001b[39m(\n",
       "  \u001b[33mStudent\u001b[39m(sno = \u001b[32m1\u001b[39m, name = \u001b[32m\"Alice\"\u001b[39m, score = \u001b[32m85\u001b[39m),\n",
       "  \u001b[33mStudent\u001b[39m(sno = \u001b[32m2\u001b[39m, name = \u001b[32m\"Bob\"\u001b[39m, score = \u001b[32m75\u001b[39m),\n",
       "  \u001b[33mStudent\u001b[39m(sno = \u001b[32m3\u001b[39m, name = \u001b[32m\"Charlie\"\u001b[39m, score = \u001b[32m90\u001b[39m),\n",
       "  \u001b[33mStudent\u001b[39m(sno = \u001b[32m4\u001b[39m, name = \u001b[32m\"Abhi\"\u001b[39m, score = \u001b[32m70\u001b[39m),\n",
       "  \u001b[33mStudent\u001b[39m(sno = \u001b[32m5\u001b[39m, name = \u001b[32m\"Avni\"\u001b[39m, score = \u001b[32m95\u001b[39m)\n",
       ")"
      ]
     },
     "execution_count": 16,
     "metadata": {},
     "output_type": "execute_result"
    }
   ],
   "source": [
    "import scala.collection.mutable.ListBuffer\n",
    "val student_list = ListBuffer(\n",
    "    Student(1, \"Alice\", 85),\n",
    "    Student(2, \"Bob\", 75),\n",
    "    Student(3, \"Charlie\", 90),\n",
    "    Student(4, \"Abhi\", 70),\n",
    "    Student(5, \"Avni\", 95)\n",
    ")"
   ]
  },
  {
   "cell_type": "code",
   "execution_count": 17,
   "metadata": {},
   "outputs": [
    {
     "data": {
      "text/plain": [
       "defined \u001b[32mclass\u001b[39m \u001b[36mStudentOps\u001b[39m"
      ]
     },
     "execution_count": 17,
     "metadata": {},
     "output_type": "execute_result"
    }
   ],
   "source": [
    "implicit class StudentOps(studentList: ListBuffer[Student]) {\n",
    "    def add(s: Student) : ListBuffer[Student] = {\n",
    "        studentList += s\n",
    "    }\n",
    "    def %>(percentage: Int): ListBuffer[Student] = studentList.filter(student => student.score > percentage)\n",
    "    def %<(percentage: Int): ListBuffer[Student] = studentList.filter(student => student.score < percentage)\n",
    "    def filterStudents(logic: Student => Boolean): ListBuffer[Student] = {\n",
    "        studentList.filter(x => logic(x))                                                      \n",
    "    }\n",
    "}"
   ]
  },
  {
   "cell_type": "code",
   "execution_count": 18,
   "metadata": {},
   "outputs": [
    {
     "data": {
      "text/plain": [
       "\u001b[36mscored_greater\u001b[39m: \u001b[32mListBuffer\u001b[39m[\u001b[32mStudent\u001b[39m] = \u001b[33mListBuffer\u001b[39m(\n",
       "  \u001b[33mStudent\u001b[39m(sno = \u001b[32m1\u001b[39m, name = \u001b[32m\"Alice\"\u001b[39m, score = \u001b[32m85\u001b[39m),\n",
       "  \u001b[33mStudent\u001b[39m(sno = \u001b[32m3\u001b[39m, name = \u001b[32m\"Charlie\"\u001b[39m, score = \u001b[32m90\u001b[39m),\n",
       "  \u001b[33mStudent\u001b[39m(sno = \u001b[32m5\u001b[39m, name = \u001b[32m\"Avni\"\u001b[39m, score = \u001b[32m95\u001b[39m)\n",
       ")\n",
       "\u001b[36mscored_lesser\u001b[39m: \u001b[32mListBuffer\u001b[39m[\u001b[32mStudent\u001b[39m] = \u001b[33mListBuffer\u001b[39m(\n",
       "  \u001b[33mStudent\u001b[39m(sno = \u001b[32m2\u001b[39m, name = \u001b[32m\"Bob\"\u001b[39m, score = \u001b[32m75\u001b[39m),\n",
       "  \u001b[33mStudent\u001b[39m(sno = \u001b[32m4\u001b[39m, name = \u001b[32m\"Abhi\"\u001b[39m, score = \u001b[32m70\u001b[39m)\n",
       ")"
      ]
     },
     "execution_count": 18,
     "metadata": {},
     "output_type": "execute_result"
    }
   ],
   "source": [
    "val scored_greater = student_list %> 80\n",
    "val scored_lesser = student_list %< 80"
   ]
  },
  {
   "cell_type": "code",
   "execution_count": 19,
   "metadata": {},
   "outputs": [
    {
     "name": "stdout",
     "output_type": "stream",
     "text": [
      "ListBuffer(Student(1,Alice,85), Student(3,Charlie,90), Student(5,Avni,95))\n",
      "ListBuffer(Student(2,Bob,75), Student(4,Abhi,70))\n"
     ]
    }
   ],
   "source": [
    "println(scored_greater)\n",
    "println(scored_lesser)"
   ]
  },
  {
   "cell_type": "code",
   "execution_count": 20,
   "metadata": {},
   "outputs": [
    {
     "data": {
      "text/plain": [
       "\u001b[32mimport \u001b[39m\u001b[36mscala.language.implicitConversions\u001b[39m\n",
       "defined \u001b[32mfunction\u001b[39m \u001b[36mTupleToStudent\u001b[39m\n",
       "defined \u001b[32mfunction\u001b[39m \u001b[36marrayToList\u001b[39m"
      ]
     },
     "execution_count": 20,
     "metadata": {},
     "output_type": "execute_result"
    }
   ],
   "source": [
    "import scala.language.implicitConversions\n",
    "implicit def arrayToList(array: Array[Student]): ListBuffer[Student] = {\n",
    "    def convert(index: Int, acc: ListBuffer[Student]): ListBuffer[Student] = {\n",
    "      if (index < 0) acc       \n",
    "      else convert(index - 1, acc += array(index)) \n",
    "    }\n",
    "    convert(array.length - 1, ListBuffer())\n",
    "  }"
   ]
  },
  {
   "cell_type": "code",
   "execution_count": 21,
   "metadata": {},
   "outputs": [
    {
     "data": {
      "text/plain": [
       "\u001b[36mbuffer_list\u001b[39m: \u001b[32mListBuffer\u001b[39m[\u001b[32mStudent\u001b[39m] = \u001b[33mListBuffer\u001b[39m(\n",
       "  \u001b[33mStudent\u001b[39m(sno = \u001b[32m1\u001b[39m, name = \u001b[32m\"Alice\"\u001b[39m, score = \u001b[32m85\u001b[39m),\n",
       "  \u001b[33mStudent\u001b[39m(sno = \u001b[32m2\u001b[39m, name = \u001b[32m\"Bob\"\u001b[39m, score = \u001b[32m75\u001b[39m),\n",
       "  \u001b[33mStudent\u001b[39m(sno = \u001b[32m3\u001b[39m, name = \u001b[32m\"Charlie\"\u001b[39m, score = \u001b[32m90\u001b[39m),\n",
       "  \u001b[33mStudent\u001b[39m(sno = \u001b[32m4\u001b[39m, name = \u001b[32m\"Abhi\"\u001b[39m, score = \u001b[32m70\u001b[39m),\n",
       "  \u001b[33mStudent\u001b[39m(sno = \u001b[32m5\u001b[39m, name = \u001b[32m\"Avni\"\u001b[39m, score = \u001b[32m95\u001b[39m)\n",
       ")"
      ]
     },
     "execution_count": 21,
     "metadata": {},
     "output_type": "execute_result"
    }
   ],
   "source": [
    "val buffer_list = ListBuffer(\n",
    "    Student(1, \"Alice\", 85),\n",
    "    Student(2, \"Bob\", 75),\n",
    "    Student(3, \"Charlie\", 90),\n",
    "    Student(4, \"Abhi\", 70),\n",
    "    Student(5, \"Avni\", 95)\n",
    ")"
   ]
  },
  {
   "cell_type": "code",
   "execution_count": 22,
   "metadata": {},
   "outputs": [
    {
     "data": {
      "text/plain": [
       "\u001b[36mres22_0\u001b[39m: \u001b[32mListBuffer\u001b[39m[\u001b[32mStudent\u001b[39m] = \u001b[33mListBuffer\u001b[39m(\n",
       "  \u001b[33mStudent\u001b[39m(sno = \u001b[32m1\u001b[39m, name = \u001b[32m\"Alice\"\u001b[39m, score = \u001b[32m85\u001b[39m),\n",
       "  \u001b[33mStudent\u001b[39m(sno = \u001b[32m2\u001b[39m, name = \u001b[32m\"Bob\"\u001b[39m, score = \u001b[32m75\u001b[39m),\n",
       "  \u001b[33mStudent\u001b[39m(sno = \u001b[32m3\u001b[39m, name = \u001b[32m\"Charlie\"\u001b[39m, score = \u001b[32m90\u001b[39m),\n",
       "  \u001b[33mStudent\u001b[39m(sno = \u001b[32m4\u001b[39m, name = \u001b[32m\"Abhi\"\u001b[39m, score = \u001b[32m70\u001b[39m),\n",
       "  \u001b[33mStudent\u001b[39m(sno = \u001b[32m5\u001b[39m, name = \u001b[32m\"Avni\"\u001b[39m, score = \u001b[32m95\u001b[39m),\n",
       "  \u001b[33mStudent\u001b[39m(sno = \u001b[32m6\u001b[39m, name = \u001b[32m\"akash\"\u001b[39m, score = \u001b[32m65\u001b[39m),\n",
       "  \u001b[33mStudent\u001b[39m(sno = \u001b[32m7\u001b[39m, name = \u001b[32m\"akshay\"\u001b[39m, score = \u001b[32m95\u001b[39m)\n",
       ")\n",
       "\u001b[36mres22_1\u001b[39m: \u001b[32mListBuffer\u001b[39m[\u001b[32mStudent\u001b[39m] = \u001b[33mListBuffer\u001b[39m(\n",
       "  \u001b[33mStudent\u001b[39m(sno = \u001b[32m1\u001b[39m, name = \u001b[32m\"Alice\"\u001b[39m, score = \u001b[32m85\u001b[39m),\n",
       "  \u001b[33mStudent\u001b[39m(sno = \u001b[32m2\u001b[39m, name = \u001b[32m\"Bob\"\u001b[39m, score = \u001b[32m75\u001b[39m),\n",
       "  \u001b[33mStudent\u001b[39m(sno = \u001b[32m3\u001b[39m, name = \u001b[32m\"Charlie\"\u001b[39m, score = \u001b[32m90\u001b[39m),\n",
       "  \u001b[33mStudent\u001b[39m(sno = \u001b[32m4\u001b[39m, name = \u001b[32m\"Abhi\"\u001b[39m, score = \u001b[32m70\u001b[39m),\n",
       "  \u001b[33mStudent\u001b[39m(sno = \u001b[32m5\u001b[39m, name = \u001b[32m\"Avni\"\u001b[39m, score = \u001b[32m95\u001b[39m),\n",
       "  \u001b[33mStudent\u001b[39m(sno = \u001b[32m6\u001b[39m, name = \u001b[32m\"akash\"\u001b[39m, score = \u001b[32m65\u001b[39m),\n",
       "  \u001b[33mStudent\u001b[39m(sno = \u001b[32m7\u001b[39m, name = \u001b[32m\"akshay\"\u001b[39m, score = \u001b[32m95\u001b[39m)\n",
       ")"
      ]
     },
     "execution_count": 22,
     "metadata": {},
     "output_type": "execute_result"
    }
   ],
   "source": [
    "buffer_list.add(Student(6, \"akash\", 65))\n",
    "buffer_list.add(Student(7, \"akshay\", 95))"
   ]
  },
  {
   "cell_type": "code",
   "execution_count": 23,
   "metadata": {},
   "outputs": [
    {
     "name": "stdout",
     "output_type": "stream",
     "text": [
      "ListBuffer(Student(1,Alice,85), Student(2,Bob,75), Student(3,Charlie,90), Student(4,Abhi,70), Student(5,Avni,95), Student(6,akash,65), Student(7,akshay,95))"
     ]
    }
   ],
   "source": [
    "print(buffer_list)"
   ]
  },
  {
   "cell_type": "code",
   "execution_count": 24,
   "metadata": {},
   "outputs": [
    {
     "data": {
      "text/plain": [
       "\u001b[36mres24\u001b[39m: \u001b[32mListBuffer\u001b[39m[\u001b[32mStudent\u001b[39m] = \u001b[33mListBuffer\u001b[39m(\n",
       "  \u001b[33mStudent\u001b[39m(sno = \u001b[32m1\u001b[39m, name = \u001b[32m\"Alice\"\u001b[39m, score = \u001b[32m85\u001b[39m),\n",
       "  \u001b[33mStudent\u001b[39m(sno = \u001b[32m2\u001b[39m, name = \u001b[32m\"Bob\"\u001b[39m, score = \u001b[32m75\u001b[39m),\n",
       "  \u001b[33mStudent\u001b[39m(sno = \u001b[32m3\u001b[39m, name = \u001b[32m\"Charlie\"\u001b[39m, score = \u001b[32m90\u001b[39m),\n",
       "  \u001b[33mStudent\u001b[39m(sno = \u001b[32m4\u001b[39m, name = \u001b[32m\"Abhi\"\u001b[39m, score = \u001b[32m70\u001b[39m),\n",
       "  \u001b[33mStudent\u001b[39m(sno = \u001b[32m5\u001b[39m, name = \u001b[32m\"Avni\"\u001b[39m, score = \u001b[32m95\u001b[39m),\n",
       "  \u001b[33mStudent\u001b[39m(sno = \u001b[32m6\u001b[39m, name = \u001b[32m\"akash\"\u001b[39m, score = \u001b[32m65\u001b[39m),\n",
       "  \u001b[33mStudent\u001b[39m(sno = \u001b[32m7\u001b[39m, name = \u001b[32m\"akshay\"\u001b[39m, score = \u001b[32m95\u001b[39m),\n",
       "  \u001b[33mStudent\u001b[39m(sno = \u001b[32m8\u001b[39m, name = \u001b[32m\"anandh\"\u001b[39m, score = \u001b[32m56\u001b[39m)\n",
       ")"
      ]
     },
     "execution_count": 24,
     "metadata": {},
     "output_type": "execute_result"
    }
   ],
   "source": [
    "buffer_list.add((8, \"anandh\", 56))"
   ]
  },
  {
   "cell_type": "code",
   "execution_count": 25,
   "metadata": {},
   "outputs": [
    {
     "name": "stdout",
     "output_type": "stream",
     "text": [
      "ListBuffer(Student(1,Alice,85), Student(2,Bob,75), Student(3,Charlie,90), Student(4,Abhi,70), Student(5,Avni,95), Student(6,akash,65), Student(7,akshay,95), Student(8,anandh,56))"
     ]
    }
   ],
   "source": [
    "print(buffer_list)"
   ]
  },
  {
   "cell_type": "code",
   "execution_count": 29,
   "metadata": {},
   "outputs": [
    {
     "data": {
      "text/plain": [
       "defined \u001b[32mclass\u001b[39m \u001b[36mArrayManipulation\u001b[39m"
      ]
     },
     "execution_count": 29,
     "metadata": {},
     "output_type": "execute_result"
    }
   ],
   "source": [
    "implicit class ArrayManipulation(arr: Array[Student]) {\n",
    "    def filterRecords(logic : Student => Boolean) : Array[Student] = {\n",
    "        val filteredArray = arr.filter(ele => logic(ele)).toArray\n",
    "        filteredArray\n",
    "    }\n",
    "}"
   ]
  },
  {
   "cell_type": "code",
   "execution_count": 30,
   "metadata": {},
   "outputs": [
    {
     "data": {
      "text/plain": [
       "\u001b[36mstudentArray\u001b[39m: \u001b[32mArray\u001b[39m[\u001b[32mStudent\u001b[39m] = \u001b[33mArray\u001b[39m(\n",
       "  \u001b[33mStudent\u001b[39m(sno = \u001b[32m1\u001b[39m, name = \u001b[32m\"Alice\"\u001b[39m, score = \u001b[32m85\u001b[39m),\n",
       "  \u001b[33mStudent\u001b[39m(sno = \u001b[32m2\u001b[39m, name = \u001b[32m\"Bob\"\u001b[39m, score = \u001b[32m75\u001b[39m),\n",
       "  \u001b[33mStudent\u001b[39m(sno = \u001b[32m3\u001b[39m, name = \u001b[32m\"Charlie\"\u001b[39m, score = \u001b[32m90\u001b[39m),\n",
       "  \u001b[33mStudent\u001b[39m(sno = \u001b[32m4\u001b[39m, name = \u001b[32m\"Abhi\"\u001b[39m, score = \u001b[32m70\u001b[39m),\n",
       "  \u001b[33mStudent\u001b[39m(sno = \u001b[32m5\u001b[39m, name = \u001b[32m\"Avni\"\u001b[39m, score = \u001b[32m95\u001b[39m)\n",
       ")"
      ]
     },
     "execution_count": 30,
     "metadata": {},
     "output_type": "execute_result"
    }
   ],
   "source": [
    "val studentArray = Array(\n",
    "    Student(1, \"Alice\", 85),\n",
    "    Student(2, \"Bob\", 75),\n",
    "    Student(3, \"Charlie\", 90),\n",
    "    Student(4, \"Abhi\", 70),\n",
    "    Student(5, \"Avni\", 95)\n",
    ")"
   ]
  },
  {
   "cell_type": "code",
   "execution_count": 31,
   "metadata": {},
   "outputs": [
    {
     "data": {
      "text/plain": [
       "\u001b[36mfilteredArray\u001b[39m: \u001b[32mArray\u001b[39m[\u001b[32mStudent\u001b[39m] = \u001b[33mArray\u001b[39m(\n",
       "  \u001b[33mStudent\u001b[39m(sno = \u001b[32m5\u001b[39m, name = \u001b[32m\"Avni\"\u001b[39m, score = \u001b[32m95\u001b[39m),\n",
       "  \u001b[33mStudent\u001b[39m(sno = \u001b[32m3\u001b[39m, name = \u001b[32m\"Charlie\"\u001b[39m, score = \u001b[32m90\u001b[39m)\n",
       ")"
      ]
     },
     "execution_count": 31,
     "metadata": {},
     "output_type": "execute_result"
    }
   ],
   "source": [
    "val filteredArray = studentArray.filterRecords(x => x.score  >= 90)"
   ]
  },
  {
   "cell_type": "code",
   "execution_count": 32,
   "metadata": {},
   "outputs": [
    {
     "name": "stdout",
     "output_type": "stream",
     "text": [
      "Student(5,Avni,95), Student(4,Abhi,70), Student(3,Charlie,90), Student(2,Bob,75), Student(1,Alice,85)\n",
      "Student(3,Charlie,90), Student(5,Avni,95)\n"
     ]
    }
   ],
   "source": [
    "println(studentArray.mkString(\", \"))\n",
    "println(filteredArray.mkString(\", \"))"
   ]
  },
  {
   "cell_type": "code",
   "execution_count": 33,
   "metadata": {},
   "outputs": [
    {
     "data": {
      "text/plain": [
       "\u001b[36mrecords\u001b[39m: \u001b[32mArray\u001b[39m[\u001b[32mStudent\u001b[39m] = \u001b[33mArray\u001b[39m(\n",
       "  \u001b[33mStudent\u001b[39m(sno = \u001b[32m1\u001b[39m, name = \u001b[32m\"Alice\"\u001b[39m, score = \u001b[32m85\u001b[39m),\n",
       "  \u001b[33mStudent\u001b[39m(sno = \u001b[32m2\u001b[39m, name = \u001b[32m\"Bob\"\u001b[39m, score = \u001b[32m92\u001b[39m),\n",
       "  \u001b[33mStudent\u001b[39m(sno = \u001b[32m3\u001b[39m, name = \u001b[32m\"Charlie\"\u001b[39m, score = \u001b[32m78\u001b[39m),\n",
       "  \u001b[33mStudent\u001b[39m(sno = \u001b[32m4\u001b[39m, name = \u001b[32m\"David\"\u001b[39m, score = \u001b[32m66\u001b[39m),\n",
       "  \u001b[33mStudent\u001b[39m(sno = \u001b[32m5\u001b[39m, name = \u001b[32m\"Eve\"\u001b[39m, score = \u001b[32m90\u001b[39m),\n",
       "  \u001b[33mStudent\u001b[39m(sno = \u001b[32m6\u001b[39m, name = \u001b[32m\"Frank\"\u001b[39m, score = \u001b[32m73\u001b[39m),\n",
       "  \u001b[33mStudent\u001b[39m(sno = \u001b[32m7\u001b[39m, name = \u001b[32m\"Grace\"\u001b[39m, score = \u001b[32m88\u001b[39m),\n",
       "  \u001b[33mStudent\u001b[39m(sno = \u001b[32m8\u001b[39m, name = \u001b[32m\"Hannah\"\u001b[39m, score = \u001b[32m91\u001b[39m),\n",
       "  \u001b[33mStudent\u001b[39m(sno = \u001b[32m9\u001b[39m, name = \u001b[32m\"Isaac\"\u001b[39m, score = \u001b[32m84\u001b[39m),\n",
       "  \u001b[33mStudent\u001b[39m(sno = \u001b[32m10\u001b[39m, name = \u001b[32m\"Judy\"\u001b[39m, score = \u001b[32m76\u001b[39m),\n",
       "  \u001b[33mStudent\u001b[39m(sno = \u001b[32m11\u001b[39m, name = \u001b[32m\"Kevin\"\u001b[39m, score = \u001b[32m82\u001b[39m),\n",
       "  \u001b[33mStudent\u001b[39m(sno = \u001b[32m12\u001b[39m, name = \u001b[32m\"Laura\"\u001b[39m, score = \u001b[32m79\u001b[39m),\n",
       "  \u001b[33mStudent\u001b[39m(sno = \u001b[32m13\u001b[39m, name = \u001b[32m\"Mike\"\u001b[39m, score = \u001b[32m95\u001b[39m),\n",
       "  \u001b[33mStudent\u001b[39m(sno = \u001b[32m14\u001b[39m, name = \u001b[32m\"Nina\"\u001b[39m, score = \u001b[32m70\u001b[39m),\n",
       "  \u001b[33mStudent\u001b[39m(sno = \u001b[32m15\u001b[39m, name = \u001b[32m\"Oscar\"\u001b[39m, score = \u001b[32m89\u001b[39m),\n",
       "  \u001b[33mStudent\u001b[39m(sno = \u001b[32m16\u001b[39m, name = \u001b[32m\"Paul\"\u001b[39m, score = \u001b[32m80\u001b[39m),\n",
       "  \u001b[33mStudent\u001b[39m(sno = \u001b[32m17\u001b[39m, name = \u001b[32m\"Quinn\"\u001b[39m, score = \u001b[32m77\u001b[39m),\n",
       "  \u001b[33mStudent\u001b[39m(sno = \u001b[32m18\u001b[39m, name = \u001b[32m\"Rachel\"\u001b[39m, score = \u001b[32m93\u001b[39m),\n",
       "  \u001b[33mStudent\u001b[39m(sno = \u001b[32m19\u001b[39m, name = \u001b[32m\"Sam\"\u001b[39m, score = \u001b[32m85\u001b[39m),\n",
       "  \u001b[33mStudent\u001b[39m(sno = \u001b[32m20\u001b[39m, name = \u001b[32m\"Tina\"\u001b[39m, score = \u001b[32m74\u001b[39m),\n",
       "  \u001b[33mStudent\u001b[39m(sno = \u001b[32m21\u001b[39m, name = \u001b[32m\"Uma\"\u001b[39m, score = \u001b[32m69\u001b[39m),\n",
       "  \u001b[33mStudent\u001b[39m(sno = \u001b[32m22\u001b[39m, name = \u001b[32m\"Victor\"\u001b[39m, score = \u001b[32m96\u001b[39m),\n",
       "  \u001b[33mStudent\u001b[39m(sno = \u001b[32m23\u001b[39m, name = \u001b[32m\"Wendy\"\u001b[39m, score = \u001b[32m87\u001b[39m),\n",
       "  \u001b[33mStudent\u001b[39m(sno = \u001b[32m24\u001b[39m, name = \u001b[32m\"Xander\"\u001b[39m, score = \u001b[32m68\u001b[39m),\n",
       "  \u001b[33mStudent\u001b[39m(sno = \u001b[32m25\u001b[39m, name = \u001b[32m\"Yara\"\u001b[39m, score = \u001b[32m94\u001b[39m),\n",
       "  \u001b[33mStudent\u001b[39m(sno = \u001b[32m26\u001b[39m, name = \u001b[32m\"Zane\"\u001b[39m, score = \u001b[32m81\u001b[39m),\n",
       "  \u001b[33mStudent\u001b[39m(sno = \u001b[32m27\u001b[39m, name = \u001b[32m\"Oliver\"\u001b[39m, score = \u001b[32m78\u001b[39m),\n",
       "  \u001b[33mStudent\u001b[39m(sno = \u001b[32m28\u001b[39m, name = \u001b[32m\"Sophia\"\u001b[39m, score = \u001b[32m85\u001b[39m),\n",
       "  \u001b[33mStudent\u001b[39m(sno = \u001b[32m29\u001b[39m, name = \u001b[32m\"Liam\"\u001b[39m, score = \u001b[32m90\u001b[39m),\n",
       "  \u001b[33mStudent\u001b[39m(sno = \u001b[32m30\u001b[39m, name = \u001b[32m\"Mia\"\u001b[39m, score = \u001b[32m83\u001b[39m),\n",
       "  \u001b[33mStudent\u001b[39m(sno = \u001b[32m31\u001b[39m, name = \u001b[32m\"Noah\"\u001b[39m, score = \u001b[32m88\u001b[39m),\n",
       "  \u001b[33mStudent\u001b[39m(sno = \u001b[32m32\u001b[39m, name = \u001b[32m\"Emma\"\u001b[39m, score = \u001b[32m75\u001b[39m),\n",
       "  \u001b[33mStudent\u001b[39m(sno = \u001b[32m33\u001b[39m, name = \u001b[32m\"Ava\"\u001b[39m, score = \u001b[32m92\u001b[39m),\n",
       "  \u001b[33mStudent\u001b[39m(sno = \u001b[32m34\u001b[39m, name = \u001b[32m\"William\"\u001b[39m, score = \u001b[32m86\u001b[39m),\n",
       "  \u001b[33mStudent\u001b[39m(sno = \u001b[32m35\u001b[39m, name = \u001b[32m\"James\"\u001b[39m, score = \u001b[32m91\u001b[39m),\n",
       "  \u001b[33mStudent\u001b[39m(sno = \u001b[32m36\u001b[39m, name = \u001b[32m\"Lucas\"\u001b[39m, score = \u001b[32m72\u001b[39m),\n",
       "  \u001b[33mStudent\u001b[39m(sno = \u001b[32m37\u001b[39m, name = \u001b[32m\"Amelia\"\u001b[39m, score = \u001b[32m79\u001b[39m),\n",
       "  \u001b[33mStudent\u001b[39m(sno = \u001b[32m38\u001b[39m, name = \u001b[32m\"Ella\"\u001b[39m, score = \u001b[32m89\u001b[39m),\n",
       "..."
      ]
     },
     "execution_count": 33,
     "metadata": {},
     "output_type": "execute_result"
    }
   ],
   "source": [
    "val records : Array[Student] = Array(\n",
    "  (1, \"Alice\", 85), (2, \"Bob\", 92), (3, \"Charlie\", 78), (4, \"David\", 66), (5, \"Eve\", 90),\n",
    "  (6, \"Frank\", 73), (7, \"Grace\", 88), (8, \"Hannah\", 91), (9, \"Isaac\", 84), (10, \"Judy\", 76),\n",
    "  (11, \"Kevin\", 82), (12, \"Laura\", 79), (13, \"Mike\", 95), (14, \"Nina\", 70), (15, \"Oscar\", 89),\n",
    "  (16, \"Paul\", 80), (17, \"Quinn\", 77), (18, \"Rachel\", 93), (19, \"Sam\", 85), (20, \"Tina\", 74),\n",
    "  (21, \"Uma\", 69), (22, \"Victor\", 96), (23, \"Wendy\", 87), (24, \"Xander\", 68), (25, \"Yara\", 94),\n",
    "  (26, \"Zane\", 81), (27, \"Oliver\", 78), (28, \"Sophia\", 85), (29, \"Liam\", 90), (30, \"Mia\", 83),\n",
    "  (31, \"Noah\", 88), (32, \"Emma\", 75), (33, \"Ava\", 92), (34, \"William\", 86), (35, \"James\", 91),\n",
    "  (36, \"Lucas\", 72), (37, \"Amelia\", 79), (38, \"Ella\", 89), (39, \"Mason\", 76), (40, \"Logan\", 95),\n",
    "  (41, \"Ethan\", 84), (42, \"Charlotte\", 82), (43, \"Benjamin\", 80), (44, \"Alexander\", 71),\n",
    "  (45, \"Michael\", 88), (46, \"Isabella\", 73), (47, \"Daniel\", 86), (48, \"Elijah\", 81),\n",
    "  (49, \"Matthew\", 79), (50, \"Jackson\", 92)\n",
    ")\n"
   ]
  },
  {
   "cell_type": "code",
   "execution_count": 34,
   "metadata": {},
   "outputs": [
    {
     "name": "stdout",
     "output_type": "stream",
     "text": [
      "ListBuffer(Student(50,Jackson,92), Student(49,Matthew,79), Student(48,Elijah,81), Student(47,Daniel,86), Student(46,Isabella,73), Student(45,Michael,88), Student(44,Alexander,71), Student(43,Benjamin,80), Student(42,Charlotte,82), Student(41,Ethan,84), Student(40,Logan,95), Student(39,Mason,76), Student(38,Ella,89), Student(37,Amelia,79), Student(36,Lucas,72), Student(35,James,91), Student(34,William,86), Student(33,Ava,92), Student(32,Emma,75), Student(31,Noah,88), Student(30,Mia,83), Student(29,Liam,90), Student(28,Sophia,85), Student(27,Oliver,78), Student(26,Zane,81), Student(25,Yara,94), Student(24,Xander,68), Student(23,Wendy,87), Student(22,Victor,96), Student(21,Uma,69), Student(20,Tina,74), Student(19,Sam,85), Student(18,Rachel,93), Student(17,Quinn,77), Student(16,Paul,80), Student(15,Oscar,89), Student(14,Nina,70), Student(13,Mike,95), Student(12,Laura,79), Student(11,Kevin,82), Student(10,Judy,76), Student(9,Isaac,84), Student(8,Hannah,91), Student(7,Grace,88), Student(6,Frank,73), Student(5,Eve,90), Student(4,David,66), Student(3,Charlie,78), Student(2,Bob,92), Student(1,Alice,85))\n"
     ]
    },
    {
     "data": {
      "text/plain": [
       "\u001b[36mstudentList\u001b[39m: \u001b[32mListBuffer\u001b[39m[\u001b[32mStudent\u001b[39m] = \u001b[33mListBuffer\u001b[39m(\n",
       "  \u001b[33mStudent\u001b[39m(sno = \u001b[32m50\u001b[39m, name = \u001b[32m\"Jackson\"\u001b[39m, score = \u001b[32m92\u001b[39m),\n",
       "  \u001b[33mStudent\u001b[39m(sno = \u001b[32m49\u001b[39m, name = \u001b[32m\"Matthew\"\u001b[39m, score = \u001b[32m79\u001b[39m),\n",
       "  \u001b[33mStudent\u001b[39m(sno = \u001b[32m48\u001b[39m, name = \u001b[32m\"Elijah\"\u001b[39m, score = \u001b[32m81\u001b[39m),\n",
       "  \u001b[33mStudent\u001b[39m(sno = \u001b[32m47\u001b[39m, name = \u001b[32m\"Daniel\"\u001b[39m, score = \u001b[32m86\u001b[39m),\n",
       "  \u001b[33mStudent\u001b[39m(sno = \u001b[32m46\u001b[39m, name = \u001b[32m\"Isabella\"\u001b[39m, score = \u001b[32m73\u001b[39m),\n",
       "  \u001b[33mStudent\u001b[39m(sno = \u001b[32m45\u001b[39m, name = \u001b[32m\"Michael\"\u001b[39m, score = \u001b[32m88\u001b[39m),\n",
       "  \u001b[33mStudent\u001b[39m(sno = \u001b[32m44\u001b[39m, name = \u001b[32m\"Alexander\"\u001b[39m, score = \u001b[32m71\u001b[39m),\n",
       "  \u001b[33mStudent\u001b[39m(sno = \u001b[32m43\u001b[39m, name = \u001b[32m\"Benjamin\"\u001b[39m, score = \u001b[32m80\u001b[39m),\n",
       "  \u001b[33mStudent\u001b[39m(sno = \u001b[32m42\u001b[39m, name = \u001b[32m\"Charlotte\"\u001b[39m, score = \u001b[32m82\u001b[39m),\n",
       "  \u001b[33mStudent\u001b[39m(sno = \u001b[32m41\u001b[39m, name = \u001b[32m\"Ethan\"\u001b[39m, score = \u001b[32m84\u001b[39m),\n",
       "  \u001b[33mStudent\u001b[39m(sno = \u001b[32m40\u001b[39m, name = \u001b[32m\"Logan\"\u001b[39m, score = \u001b[32m95\u001b[39m),\n",
       "  \u001b[33mStudent\u001b[39m(sno = \u001b[32m39\u001b[39m, name = \u001b[32m\"Mason\"\u001b[39m, score = \u001b[32m76\u001b[39m),\n",
       "  \u001b[33mStudent\u001b[39m(sno = \u001b[32m38\u001b[39m, name = \u001b[32m\"Ella\"\u001b[39m, score = \u001b[32m89\u001b[39m),\n",
       "  \u001b[33mStudent\u001b[39m(sno = \u001b[32m37\u001b[39m, name = \u001b[32m\"Amelia\"\u001b[39m, score = \u001b[32m79\u001b[39m),\n",
       "  \u001b[33mStudent\u001b[39m(sno = \u001b[32m36\u001b[39m, name = \u001b[32m\"Lucas\"\u001b[39m, score = \u001b[32m72\u001b[39m),\n",
       "  \u001b[33mStudent\u001b[39m(sno = \u001b[32m35\u001b[39m, name = \u001b[32m\"James\"\u001b[39m, score = \u001b[32m91\u001b[39m),\n",
       "  \u001b[33mStudent\u001b[39m(sno = \u001b[32m34\u001b[39m, name = \u001b[32m\"William\"\u001b[39m, score = \u001b[32m86\u001b[39m),\n",
       "  \u001b[33mStudent\u001b[39m(sno = \u001b[32m33\u001b[39m, name = \u001b[32m\"Ava\"\u001b[39m, score = \u001b[32m92\u001b[39m),\n",
       "  \u001b[33mStudent\u001b[39m(sno = \u001b[32m32\u001b[39m, name = \u001b[32m\"Emma\"\u001b[39m, score = \u001b[32m75\u001b[39m),\n",
       "  \u001b[33mStudent\u001b[39m(sno = \u001b[32m31\u001b[39m, name = \u001b[32m\"Noah\"\u001b[39m, score = \u001b[32m88\u001b[39m),\n",
       "  \u001b[33mStudent\u001b[39m(sno = \u001b[32m30\u001b[39m, name = \u001b[32m\"Mia\"\u001b[39m, score = \u001b[32m83\u001b[39m),\n",
       "  \u001b[33mStudent\u001b[39m(sno = \u001b[32m29\u001b[39m, name = \u001b[32m\"Liam\"\u001b[39m, score = \u001b[32m90\u001b[39m),\n",
       "  \u001b[33mStudent\u001b[39m(sno = \u001b[32m28\u001b[39m, name = \u001b[32m\"Sophia\"\u001b[39m, score = \u001b[32m85\u001b[39m),\n",
       "  \u001b[33mStudent\u001b[39m(sno = \u001b[32m27\u001b[39m, name = \u001b[32m\"Oliver\"\u001b[39m, score = \u001b[32m78\u001b[39m),\n",
       "  \u001b[33mStudent\u001b[39m(sno = \u001b[32m26\u001b[39m, name = \u001b[32m\"Zane\"\u001b[39m, score = \u001b[32m81\u001b[39m),\n",
       "  \u001b[33mStudent\u001b[39m(sno = \u001b[32m25\u001b[39m, name = \u001b[32m\"Yara\"\u001b[39m, score = \u001b[32m94\u001b[39m),\n",
       "  \u001b[33mStudent\u001b[39m(sno = \u001b[32m24\u001b[39m, name = \u001b[32m\"Xander\"\u001b[39m, score = \u001b[32m68\u001b[39m),\n",
       "  \u001b[33mStudent\u001b[39m(sno = \u001b[32m23\u001b[39m, name = \u001b[32m\"Wendy\"\u001b[39m, score = \u001b[32m87\u001b[39m),\n",
       "  \u001b[33mStudent\u001b[39m(sno = \u001b[32m22\u001b[39m, name = \u001b[32m\"Victor\"\u001b[39m, score = \u001b[32m96\u001b[39m),\n",
       "  \u001b[33mStudent\u001b[39m(sno = \u001b[32m21\u001b[39m, name = \u001b[32m\"Uma\"\u001b[39m, score = \u001b[32m69\u001b[39m),\n",
       "  \u001b[33mStudent\u001b[39m(sno = \u001b[32m20\u001b[39m, name = \u001b[32m\"Tina\"\u001b[39m, score = \u001b[32m74\u001b[39m),\n",
       "  \u001b[33mStudent\u001b[39m(sno = \u001b[32m19\u001b[39m, name = \u001b[32m\"Sam\"\u001b[39m, score = \u001b[32m85\u001b[39m),\n",
       "  \u001b[33mStudent\u001b[39m(sno = \u001b[32m18\u001b[39m, name = \u001b[32m\"Rachel\"\u001b[39m, score = \u001b[32m93\u001b[39m),\n",
       "  \u001b[33mStudent\u001b[39m(sno = \u001b[32m17\u001b[39m, name = \u001b[32m\"Quinn\"\u001b[39m, score = \u001b[32m77\u001b[39m),\n",
       "  \u001b[33mStudent\u001b[39m(sno = \u001b[32m16\u001b[39m, name = \u001b[32m\"Paul\"\u001b[39m, score = \u001b[32m80\u001b[39m),\n",
       "  \u001b[33mStudent\u001b[39m(sno = \u001b[32m15\u001b[39m, name = \u001b[32m\"Oscar\"\u001b[39m, score = \u001b[32m89\u001b[39m),\n",
       "  \u001b[33mStudent\u001b[39m(sno = \u001b[32m14\u001b[39m, name = \u001b[32m\"Nina\"\u001b[39m, score = \u001b[32m70\u001b[39m),\n",
       "  \u001b[33mStudent\u001b[39m(sno = \u001b[32m13\u001b[39m, name = \u001b[32m\"Mike\"\u001b[39m, score = \u001b[32m95\u001b[39m),\n",
       "..."
      ]
     },
     "execution_count": 34,
     "metadata": {},
     "output_type": "execute_result"
    }
   ],
   "source": [
    "val studentList: ListBuffer[Student] = records\n",
    "println(studentList)"
   ]
  },
  {
   "cell_type": "code",
   "execution_count": 35,
   "metadata": {},
   "outputs": [
    {
     "data": {
      "text/plain": [
       "\u001b[36mres35\u001b[39m: \u001b[32mListBuffer\u001b[39m[\u001b[32mStudent\u001b[39m] = \u001b[33mListBuffer\u001b[39m(\n",
       "  \u001b[33mStudent\u001b[39m(sno = \u001b[32m46\u001b[39m, name = \u001b[32m\"Isabella\"\u001b[39m, score = \u001b[32m73\u001b[39m),\n",
       "  \u001b[33mStudent\u001b[39m(sno = \u001b[32m44\u001b[39m, name = \u001b[32m\"Alexander\"\u001b[39m, score = \u001b[32m71\u001b[39m),\n",
       "  \u001b[33mStudent\u001b[39m(sno = \u001b[32m36\u001b[39m, name = \u001b[32m\"Lucas\"\u001b[39m, score = \u001b[32m72\u001b[39m),\n",
       "  \u001b[33mStudent\u001b[39m(sno = \u001b[32m32\u001b[39m, name = \u001b[32m\"Emma\"\u001b[39m, score = \u001b[32m75\u001b[39m),\n",
       "  \u001b[33mStudent\u001b[39m(sno = \u001b[32m24\u001b[39m, name = \u001b[32m\"Xander\"\u001b[39m, score = \u001b[32m68\u001b[39m),\n",
       "  \u001b[33mStudent\u001b[39m(sno = \u001b[32m21\u001b[39m, name = \u001b[32m\"Uma\"\u001b[39m, score = \u001b[32m69\u001b[39m),\n",
       "  \u001b[33mStudent\u001b[39m(sno = \u001b[32m20\u001b[39m, name = \u001b[32m\"Tina\"\u001b[39m, score = \u001b[32m74\u001b[39m),\n",
       "  \u001b[33mStudent\u001b[39m(sno = \u001b[32m14\u001b[39m, name = \u001b[32m\"Nina\"\u001b[39m, score = \u001b[32m70\u001b[39m),\n",
       "  \u001b[33mStudent\u001b[39m(sno = \u001b[32m6\u001b[39m, name = \u001b[32m\"Frank\"\u001b[39m, score = \u001b[32m73\u001b[39m),\n",
       "  \u001b[33mStudent\u001b[39m(sno = \u001b[32m4\u001b[39m, name = \u001b[32m\"David\"\u001b[39m, score = \u001b[32m66\u001b[39m)\n",
       ")"
      ]
     },
     "execution_count": 35,
     "metadata": {},
     "output_type": "execute_result"
    }
   ],
   "source": [
    "studentList.filterStudents(x => x.score <= 75)"
   ]
  }
 ],
 "metadata": {
  "kernelspec": {
   "display_name": "Scala",
   "language": "scala",
   "name": "scala"
  },
  "language_info": {
   "codemirror_mode": "text/x-scala",
   "file_extension": ".sc",
   "mimetype": "text/x-scala",
   "name": "scala",
   "nbconvert_exporter": "script",
   "version": "2.13.14"
  }
 },
 "nbformat": 4,
 "nbformat_minor": 2
}
